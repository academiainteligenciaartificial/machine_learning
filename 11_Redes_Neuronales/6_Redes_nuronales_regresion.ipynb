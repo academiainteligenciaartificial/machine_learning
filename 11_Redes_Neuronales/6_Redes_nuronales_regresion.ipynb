{
  "nbformat": 4,
  "nbformat_minor": 0,
  "metadata": {
    "colab": {
      "provenance": []
    },
    "kernelspec": {
      "name": "python3",
      "display_name": "Python 3"
    },
    "language_info": {
      "name": "python"
    }
  },
  "cells": [
    {
      "cell_type": "markdown",
      "source": [
        "# Dataset"
      ],
      "metadata": {
        "id": "r18fFWIssR0V"
      }
    },
    {
      "cell_type": "code",
      "source": [
        "import pandas as pd\n",
        "import matplotlib.pyplot as plt"
      ],
      "metadata": {
        "id": "daYjGH1h5RBU"
      },
      "execution_count": 41,
      "outputs": []
    },
    {
      "cell_type": "code",
      "source": [
        "df = pd.read_csv('https://raw.githubusercontent.com/stedy/Machine-Learning-with-R-datasets/master/insurance.csv')"
      ],
      "metadata": {
        "id": "_6tvSO2b5VKi"
      },
      "execution_count": 42,
      "outputs": []
    },
    {
      "cell_type": "code",
      "source": [
        "df.head()"
      ],
      "metadata": {
        "colab": {
          "base_uri": "https://localhost:8080/",
          "height": 206
        },
        "id": "AZ5VvGpx5bmD",
        "outputId": "cedd63b5-daed-4a56-9102-8d94ebd3d11e"
      },
      "execution_count": 43,
      "outputs": [
        {
          "output_type": "execute_result",
          "data": {
            "text/plain": [
              "   age     sex     bmi  children smoker     region      charges\n",
              "0   19  female  27.900         0    yes  southwest  16884.92400\n",
              "1   18    male  33.770         1     no  southeast   1725.55230\n",
              "2   28    male  33.000         3     no  southeast   4449.46200\n",
              "3   33    male  22.705         0     no  northwest  21984.47061\n",
              "4   32    male  28.880         0     no  northwest   3866.85520"
            ],
            "text/html": [
              "\n",
              "  <div id=\"df-a2b6379d-0a54-447d-bb87-11d61e012604\">\n",
              "    <div class=\"colab-df-container\">\n",
              "      <div>\n",
              "<style scoped>\n",
              "    .dataframe tbody tr th:only-of-type {\n",
              "        vertical-align: middle;\n",
              "    }\n",
              "\n",
              "    .dataframe tbody tr th {\n",
              "        vertical-align: top;\n",
              "    }\n",
              "\n",
              "    .dataframe thead th {\n",
              "        text-align: right;\n",
              "    }\n",
              "</style>\n",
              "<table border=\"1\" class=\"dataframe\">\n",
              "  <thead>\n",
              "    <tr style=\"text-align: right;\">\n",
              "      <th></th>\n",
              "      <th>age</th>\n",
              "      <th>sex</th>\n",
              "      <th>bmi</th>\n",
              "      <th>children</th>\n",
              "      <th>smoker</th>\n",
              "      <th>region</th>\n",
              "      <th>charges</th>\n",
              "    </tr>\n",
              "  </thead>\n",
              "  <tbody>\n",
              "    <tr>\n",
              "      <th>0</th>\n",
              "      <td>19</td>\n",
              "      <td>female</td>\n",
              "      <td>27.900</td>\n",
              "      <td>0</td>\n",
              "      <td>yes</td>\n",
              "      <td>southwest</td>\n",
              "      <td>16884.92400</td>\n",
              "    </tr>\n",
              "    <tr>\n",
              "      <th>1</th>\n",
              "      <td>18</td>\n",
              "      <td>male</td>\n",
              "      <td>33.770</td>\n",
              "      <td>1</td>\n",
              "      <td>no</td>\n",
              "      <td>southeast</td>\n",
              "      <td>1725.55230</td>\n",
              "    </tr>\n",
              "    <tr>\n",
              "      <th>2</th>\n",
              "      <td>28</td>\n",
              "      <td>male</td>\n",
              "      <td>33.000</td>\n",
              "      <td>3</td>\n",
              "      <td>no</td>\n",
              "      <td>southeast</td>\n",
              "      <td>4449.46200</td>\n",
              "    </tr>\n",
              "    <tr>\n",
              "      <th>3</th>\n",
              "      <td>33</td>\n",
              "      <td>male</td>\n",
              "      <td>22.705</td>\n",
              "      <td>0</td>\n",
              "      <td>no</td>\n",
              "      <td>northwest</td>\n",
              "      <td>21984.47061</td>\n",
              "    </tr>\n",
              "    <tr>\n",
              "      <th>4</th>\n",
              "      <td>32</td>\n",
              "      <td>male</td>\n",
              "      <td>28.880</td>\n",
              "      <td>0</td>\n",
              "      <td>no</td>\n",
              "      <td>northwest</td>\n",
              "      <td>3866.85520</td>\n",
              "    </tr>\n",
              "  </tbody>\n",
              "</table>\n",
              "</div>\n",
              "      <button class=\"colab-df-convert\" onclick=\"convertToInteractive('df-a2b6379d-0a54-447d-bb87-11d61e012604')\"\n",
              "              title=\"Convert this dataframe to an interactive table.\"\n",
              "              style=\"display:none;\">\n",
              "        \n",
              "  <svg xmlns=\"http://www.w3.org/2000/svg\" height=\"24px\"viewBox=\"0 0 24 24\"\n",
              "       width=\"24px\">\n",
              "    <path d=\"M0 0h24v24H0V0z\" fill=\"none\"/>\n",
              "    <path d=\"M18.56 5.44l.94 2.06.94-2.06 2.06-.94-2.06-.94-.94-2.06-.94 2.06-2.06.94zm-11 1L8.5 8.5l.94-2.06 2.06-.94-2.06-.94L8.5 2.5l-.94 2.06-2.06.94zm10 10l.94 2.06.94-2.06 2.06-.94-2.06-.94-.94-2.06-.94 2.06-2.06.94z\"/><path d=\"M17.41 7.96l-1.37-1.37c-.4-.4-.92-.59-1.43-.59-.52 0-1.04.2-1.43.59L10.3 9.45l-7.72 7.72c-.78.78-.78 2.05 0 2.83L4 21.41c.39.39.9.59 1.41.59.51 0 1.02-.2 1.41-.59l7.78-7.78 2.81-2.81c.8-.78.8-2.07 0-2.86zM5.41 20L4 18.59l7.72-7.72 1.47 1.35L5.41 20z\"/>\n",
              "  </svg>\n",
              "      </button>\n",
              "      \n",
              "  <style>\n",
              "    .colab-df-container {\n",
              "      display:flex;\n",
              "      flex-wrap:wrap;\n",
              "      gap: 12px;\n",
              "    }\n",
              "\n",
              "    .colab-df-convert {\n",
              "      background-color: #E8F0FE;\n",
              "      border: none;\n",
              "      border-radius: 50%;\n",
              "      cursor: pointer;\n",
              "      display: none;\n",
              "      fill: #1967D2;\n",
              "      height: 32px;\n",
              "      padding: 0 0 0 0;\n",
              "      width: 32px;\n",
              "    }\n",
              "\n",
              "    .colab-df-convert:hover {\n",
              "      background-color: #E2EBFA;\n",
              "      box-shadow: 0px 1px 2px rgba(60, 64, 67, 0.3), 0px 1px 3px 1px rgba(60, 64, 67, 0.15);\n",
              "      fill: #174EA6;\n",
              "    }\n",
              "\n",
              "    [theme=dark] .colab-df-convert {\n",
              "      background-color: #3B4455;\n",
              "      fill: #D2E3FC;\n",
              "    }\n",
              "\n",
              "    [theme=dark] .colab-df-convert:hover {\n",
              "      background-color: #434B5C;\n",
              "      box-shadow: 0px 1px 3px 1px rgba(0, 0, 0, 0.15);\n",
              "      filter: drop-shadow(0px 1px 2px rgba(0, 0, 0, 0.3));\n",
              "      fill: #FFFFFF;\n",
              "    }\n",
              "  </style>\n",
              "\n",
              "      <script>\n",
              "        const buttonEl =\n",
              "          document.querySelector('#df-a2b6379d-0a54-447d-bb87-11d61e012604 button.colab-df-convert');\n",
              "        buttonEl.style.display =\n",
              "          google.colab.kernel.accessAllowed ? 'block' : 'none';\n",
              "\n",
              "        async function convertToInteractive(key) {\n",
              "          const element = document.querySelector('#df-a2b6379d-0a54-447d-bb87-11d61e012604');\n",
              "          const dataTable =\n",
              "            await google.colab.kernel.invokeFunction('convertToInteractive',\n",
              "                                                     [key], {});\n",
              "          if (!dataTable) return;\n",
              "\n",
              "          const docLinkHtml = 'Like what you see? Visit the ' +\n",
              "            '<a target=\"_blank\" href=https://colab.research.google.com/notebooks/data_table.ipynb>data table notebook</a>'\n",
              "            + ' to learn more about interactive tables.';\n",
              "          element.innerHTML = '';\n",
              "          dataTable['output_type'] = 'display_data';\n",
              "          await google.colab.output.renderOutput(dataTable, element);\n",
              "          const docLink = document.createElement('div');\n",
              "          docLink.innerHTML = docLinkHtml;\n",
              "          element.appendChild(docLink);\n",
              "        }\n",
              "      </script>\n",
              "    </div>\n",
              "  </div>\n",
              "  "
            ]
          },
          "metadata": {},
          "execution_count": 43
        }
      ]
    },
    {
      "cell_type": "markdown",
      "source": [
        "# Preprocesamiento"
      ],
      "metadata": {
        "id": "NTSnEZz75eE8"
      }
    },
    {
      "cell_type": "code",
      "source": [
        "from sklearn.preprocessing import MinMaxScaler, OneHotEncoder\n",
        "from sklearn.compose import make_column_transformer"
      ],
      "metadata": {
        "id": "JUgPWfXZ5cc6"
      },
      "execution_count": 44,
      "outputs": []
    },
    {
      "cell_type": "code",
      "source": [
        "X = df.drop('charges', axis=1)\n",
        "y = df['charges']"
      ],
      "metadata": {
        "id": "8rOBKRPz56XA"
      },
      "execution_count": 45,
      "outputs": []
    },
    {
      "cell_type": "code",
      "source": [
        "X.loc[0]"
      ],
      "metadata": {
        "colab": {
          "base_uri": "https://localhost:8080/"
        },
        "id": "NtbAuO436JZ2",
        "outputId": "7ad4084b-f6d3-4e5b-b513-cebb6de44120"
      },
      "execution_count": 46,
      "outputs": [
        {
          "output_type": "execute_result",
          "data": {
            "text/plain": [
              "age                19\n",
              "sex            female\n",
              "bmi              27.9\n",
              "children            0\n",
              "smoker            yes\n",
              "region      southwest\n",
              "Name: 0, dtype: object"
            ]
          },
          "metadata": {},
          "execution_count": 46
        }
      ]
    },
    {
      "cell_type": "code",
      "source": [
        "ct = make_column_transformer(\n",
        "    (MinMaxScaler(), ['age', 'bmi', 'children']),\n",
        "    (OneHotEncoder(handle_unknown='ignore'), ['sex', 'smoker', 'region'])\n",
        ")\n",
        "ct.fit(X)"
      ],
      "metadata": {
        "colab": {
          "base_uri": "https://localhost:8080/",
          "height": 118
        },
        "id": "2rvpWyhF6LKg",
        "outputId": "d5d4e9fb-a397-4672-84fa-2cb9e81cd9d7"
      },
      "execution_count": 48,
      "outputs": [
        {
          "output_type": "execute_result",
          "data": {
            "text/plain": [
              "ColumnTransformer(transformers=[('minmaxscaler', MinMaxScaler(),\n",
              "                                 ['age', 'bmi', 'children']),\n",
              "                                ('onehotencoder',\n",
              "                                 OneHotEncoder(handle_unknown='ignore'),\n",
              "                                 ['sex', 'smoker', 'region'])])"
            ],
            "text/html": [
              "<style>#sk-container-id-2 {color: black;background-color: white;}#sk-container-id-2 pre{padding: 0;}#sk-container-id-2 div.sk-toggleable {background-color: white;}#sk-container-id-2 label.sk-toggleable__label {cursor: pointer;display: block;width: 100%;margin-bottom: 0;padding: 0.3em;box-sizing: border-box;text-align: center;}#sk-container-id-2 label.sk-toggleable__label-arrow:before {content: \"▸\";float: left;margin-right: 0.25em;color: #696969;}#sk-container-id-2 label.sk-toggleable__label-arrow:hover:before {color: black;}#sk-container-id-2 div.sk-estimator:hover label.sk-toggleable__label-arrow:before {color: black;}#sk-container-id-2 div.sk-toggleable__content {max-height: 0;max-width: 0;overflow: hidden;text-align: left;background-color: #f0f8ff;}#sk-container-id-2 div.sk-toggleable__content pre {margin: 0.2em;color: black;border-radius: 0.25em;background-color: #f0f8ff;}#sk-container-id-2 input.sk-toggleable__control:checked~div.sk-toggleable__content {max-height: 200px;max-width: 100%;overflow: auto;}#sk-container-id-2 input.sk-toggleable__control:checked~label.sk-toggleable__label-arrow:before {content: \"▾\";}#sk-container-id-2 div.sk-estimator input.sk-toggleable__control:checked~label.sk-toggleable__label {background-color: #d4ebff;}#sk-container-id-2 div.sk-label input.sk-toggleable__control:checked~label.sk-toggleable__label {background-color: #d4ebff;}#sk-container-id-2 input.sk-hidden--visually {border: 0;clip: rect(1px 1px 1px 1px);clip: rect(1px, 1px, 1px, 1px);height: 1px;margin: -1px;overflow: hidden;padding: 0;position: absolute;width: 1px;}#sk-container-id-2 div.sk-estimator {font-family: monospace;background-color: #f0f8ff;border: 1px dotted black;border-radius: 0.25em;box-sizing: border-box;margin-bottom: 0.5em;}#sk-container-id-2 div.sk-estimator:hover {background-color: #d4ebff;}#sk-container-id-2 div.sk-parallel-item::after {content: \"\";width: 100%;border-bottom: 1px solid gray;flex-grow: 1;}#sk-container-id-2 div.sk-label:hover label.sk-toggleable__label {background-color: #d4ebff;}#sk-container-id-2 div.sk-serial::before {content: \"\";position: absolute;border-left: 1px solid gray;box-sizing: border-box;top: 0;bottom: 0;left: 50%;z-index: 0;}#sk-container-id-2 div.sk-serial {display: flex;flex-direction: column;align-items: center;background-color: white;padding-right: 0.2em;padding-left: 0.2em;position: relative;}#sk-container-id-2 div.sk-item {position: relative;z-index: 1;}#sk-container-id-2 div.sk-parallel {display: flex;align-items: stretch;justify-content: center;background-color: white;position: relative;}#sk-container-id-2 div.sk-item::before, #sk-container-id-2 div.sk-parallel-item::before {content: \"\";position: absolute;border-left: 1px solid gray;box-sizing: border-box;top: 0;bottom: 0;left: 50%;z-index: -1;}#sk-container-id-2 div.sk-parallel-item {display: flex;flex-direction: column;z-index: 1;position: relative;background-color: white;}#sk-container-id-2 div.sk-parallel-item:first-child::after {align-self: flex-end;width: 50%;}#sk-container-id-2 div.sk-parallel-item:last-child::after {align-self: flex-start;width: 50%;}#sk-container-id-2 div.sk-parallel-item:only-child::after {width: 0;}#sk-container-id-2 div.sk-dashed-wrapped {border: 1px dashed gray;margin: 0 0.4em 0.5em 0.4em;box-sizing: border-box;padding-bottom: 0.4em;background-color: white;}#sk-container-id-2 div.sk-label label {font-family: monospace;font-weight: bold;display: inline-block;line-height: 1.2em;}#sk-container-id-2 div.sk-label-container {text-align: center;}#sk-container-id-2 div.sk-container {/* jupyter's `normalize.less` sets `[hidden] { display: none; }` but bootstrap.min.css set `[hidden] { display: none !important; }` so we also need the `!important` here to be able to override the default hidden behavior on the sphinx rendered scikit-learn.org. See: https://github.com/scikit-learn/scikit-learn/issues/21755 */display: inline-block !important;position: relative;}#sk-container-id-2 div.sk-text-repr-fallback {display: none;}</style><div id=\"sk-container-id-2\" class=\"sk-top-container\"><div class=\"sk-text-repr-fallback\"><pre>ColumnTransformer(transformers=[(&#x27;minmaxscaler&#x27;, MinMaxScaler(),\n",
              "                                 [&#x27;age&#x27;, &#x27;bmi&#x27;, &#x27;children&#x27;]),\n",
              "                                (&#x27;onehotencoder&#x27;,\n",
              "                                 OneHotEncoder(handle_unknown=&#x27;ignore&#x27;),\n",
              "                                 [&#x27;sex&#x27;, &#x27;smoker&#x27;, &#x27;region&#x27;])])</pre><b>In a Jupyter environment, please rerun this cell to show the HTML representation or trust the notebook. <br />On GitHub, the HTML representation is unable to render, please try loading this page with nbviewer.org.</b></div><div class=\"sk-container\" hidden><div class=\"sk-item sk-dashed-wrapped\"><div class=\"sk-label-container\"><div class=\"sk-label sk-toggleable\"><input class=\"sk-toggleable__control sk-hidden--visually\" id=\"sk-estimator-id-6\" type=\"checkbox\" ><label for=\"sk-estimator-id-6\" class=\"sk-toggleable__label sk-toggleable__label-arrow\">ColumnTransformer</label><div class=\"sk-toggleable__content\"><pre>ColumnTransformer(transformers=[(&#x27;minmaxscaler&#x27;, MinMaxScaler(),\n",
              "                                 [&#x27;age&#x27;, &#x27;bmi&#x27;, &#x27;children&#x27;]),\n",
              "                                (&#x27;onehotencoder&#x27;,\n",
              "                                 OneHotEncoder(handle_unknown=&#x27;ignore&#x27;),\n",
              "                                 [&#x27;sex&#x27;, &#x27;smoker&#x27;, &#x27;region&#x27;])])</pre></div></div></div><div class=\"sk-parallel\"><div class=\"sk-parallel-item\"><div class=\"sk-item\"><div class=\"sk-label-container\"><div class=\"sk-label sk-toggleable\"><input class=\"sk-toggleable__control sk-hidden--visually\" id=\"sk-estimator-id-7\" type=\"checkbox\" ><label for=\"sk-estimator-id-7\" class=\"sk-toggleable__label sk-toggleable__label-arrow\">minmaxscaler</label><div class=\"sk-toggleable__content\"><pre>[&#x27;age&#x27;, &#x27;bmi&#x27;, &#x27;children&#x27;]</pre></div></div></div><div class=\"sk-serial\"><div class=\"sk-item\"><div class=\"sk-estimator sk-toggleable\"><input class=\"sk-toggleable__control sk-hidden--visually\" id=\"sk-estimator-id-8\" type=\"checkbox\" ><label for=\"sk-estimator-id-8\" class=\"sk-toggleable__label sk-toggleable__label-arrow\">MinMaxScaler</label><div class=\"sk-toggleable__content\"><pre>MinMaxScaler()</pre></div></div></div></div></div></div><div class=\"sk-parallel-item\"><div class=\"sk-item\"><div class=\"sk-label-container\"><div class=\"sk-label sk-toggleable\"><input class=\"sk-toggleable__control sk-hidden--visually\" id=\"sk-estimator-id-9\" type=\"checkbox\" ><label for=\"sk-estimator-id-9\" class=\"sk-toggleable__label sk-toggleable__label-arrow\">onehotencoder</label><div class=\"sk-toggleable__content\"><pre>[&#x27;sex&#x27;, &#x27;smoker&#x27;, &#x27;region&#x27;]</pre></div></div></div><div class=\"sk-serial\"><div class=\"sk-item\"><div class=\"sk-estimator sk-toggleable\"><input class=\"sk-toggleable__control sk-hidden--visually\" id=\"sk-estimator-id-10\" type=\"checkbox\" ><label for=\"sk-estimator-id-10\" class=\"sk-toggleable__label sk-toggleable__label-arrow\">OneHotEncoder</label><div class=\"sk-toggleable__content\"><pre>OneHotEncoder(handle_unknown=&#x27;ignore&#x27;)</pre></div></div></div></div></div></div></div></div></div></div>"
            ]
          },
          "metadata": {},
          "execution_count": 48
        }
      ]
    },
    {
      "cell_type": "code",
      "source": [
        "X = ct.transform(X)"
      ],
      "metadata": {
        "id": "lb4PCz5H6nYE"
      },
      "execution_count": 49,
      "outputs": []
    },
    {
      "cell_type": "code",
      "source": [
        "print(X.shape)\n",
        "print(X)"
      ],
      "metadata": {
        "colab": {
          "base_uri": "https://localhost:8080/"
        },
        "id": "m1T2bPzB6vaU",
        "outputId": "1f563180-5ac8-40a3-e261-7526f872f5f1"
      },
      "execution_count": 50,
      "outputs": [
        {
          "output_type": "stream",
          "name": "stdout",
          "text": [
            "(1338, 11)\n",
            "[[0.02173913 0.3212268  0.         ... 0.         0.         1.        ]\n",
            " [0.         0.47914985 0.2        ... 0.         1.         0.        ]\n",
            " [0.2173913  0.45843422 0.6        ... 0.         1.         0.        ]\n",
            " ...\n",
            " [0.         0.56201238 0.         ... 0.         1.         0.        ]\n",
            " [0.06521739 0.26472962 0.         ... 0.         0.         1.        ]\n",
            " [0.93478261 0.35270379 0.         ... 1.         0.         0.        ]]\n"
          ]
        }
      ]
    },
    {
      "cell_type": "markdown",
      "source": [
        "# Entrenamiento"
      ],
      "metadata": {
        "id": "EJo55n7H64ED"
      }
    },
    {
      "cell_type": "code",
      "source": [
        "from sklearn.model_selection import train_test_split"
      ],
      "metadata": {
        "id": "eDdAfL866xh1"
      },
      "execution_count": 51,
      "outputs": []
    },
    {
      "cell_type": "code",
      "source": [
        "X_train, X_test, y_train, y_test = train_test_split(X, y, test_size=0.2, random_state=0)\n",
        "print(X_train.shape, X_test.shape, y_train.shape, y_test.shape)"
      ],
      "metadata": {
        "colab": {
          "base_uri": "https://localhost:8080/"
        },
        "id": "Yx9AdJeo7BTS",
        "outputId": "db26e850-44d0-4a90-94a4-1a2b7127b2de"
      },
      "execution_count": 52,
      "outputs": [
        {
          "output_type": "stream",
          "name": "stdout",
          "text": [
            "(1070, 11) (268, 11) (1070,) (268,)\n"
          ]
        }
      ]
    },
    {
      "cell_type": "code",
      "source": [
        "import tensorflow as tf\n",
        "from tensorflow import keras\n",
        "from keras import Sequential, Input\n",
        "from keras.layers import Dense"
      ],
      "metadata": {
        "id": "Y-BxXYN27N3r"
      },
      "execution_count": 54,
      "outputs": []
    },
    {
      "cell_type": "code",
      "source": [
        "tf.random.set_seed(42)\n",
        "\n",
        "model = Sequential([\n",
        "    Dense(256, input_shape=(11,)),\n",
        "    Dense(64),\n",
        "    Dense(1)\n",
        "])\n",
        "\n",
        "model.summary()"
      ],
      "metadata": {
        "colab": {
          "base_uri": "https://localhost:8080/"
        },
        "id": "2g96HiEO75Ih",
        "outputId": "bd79ddcb-42f4-4d78-d1dd-712c7eda1362"
      },
      "execution_count": 58,
      "outputs": [
        {
          "output_type": "stream",
          "name": "stdout",
          "text": [
            "Model: \"sequential_7\"\n",
            "_________________________________________________________________\n",
            " Layer (type)                Output Shape              Param #   \n",
            "=================================================================\n",
            " dense_18 (Dense)            (None, 256)               3072      \n",
            "                                                                 \n",
            " dense_19 (Dense)            (None, 64)                16448     \n",
            "                                                                 \n",
            " dense_20 (Dense)            (None, 1)                 65        \n",
            "                                                                 \n",
            "=================================================================\n",
            "Total params: 19,585\n",
            "Trainable params: 19,585\n",
            "Non-trainable params: 0\n",
            "_________________________________________________________________\n"
          ]
        }
      ]
    },
    {
      "cell_type": "code",
      "source": [
        "model.compile(loss=tf.keras.losses.mae,\n",
        "              optimizer=tf.keras.optimizers.SGD(),\n",
        "              metrics=['mae'])"
      ],
      "metadata": {
        "id": "PdrTBkbL81y_"
      },
      "execution_count": 59,
      "outputs": []
    },
    {
      "cell_type": "code",
      "source": [
        "history = model.fit(X_train, y_train, epochs=100)"
      ],
      "metadata": {
        "colab": {
          "base_uri": "https://localhost:8080/"
        },
        "id": "FvCHwezK91N-",
        "outputId": "025e4ea9-aa5a-4ffb-8f12-804757b3e4d7"
      },
      "execution_count": 60,
      "outputs": [
        {
          "output_type": "stream",
          "name": "stdout",
          "text": [
            "Epoch 1/100\n",
            "34/34 [==============================] - 1s 2ms/step - loss: 13195.1680 - mae: 13195.1680\n",
            "Epoch 2/100\n",
            "34/34 [==============================] - 0s 2ms/step - loss: 11229.5381 - mae: 11229.5381\n",
            "Epoch 3/100\n",
            "34/34 [==============================] - 0s 2ms/step - loss: 6250.1938 - mae: 6250.1938\n",
            "Epoch 4/100\n",
            "34/34 [==============================] - 0s 2ms/step - loss: 5448.2505 - mae: 5448.2505\n",
            "Epoch 5/100\n",
            "34/34 [==============================] - 0s 2ms/step - loss: 5248.7456 - mae: 5248.7456\n",
            "Epoch 6/100\n",
            "34/34 [==============================] - 0s 2ms/step - loss: 5233.0947 - mae: 5233.0947\n",
            "Epoch 7/100\n",
            "34/34 [==============================] - 0s 2ms/step - loss: 5276.9951 - mae: 5276.9951\n",
            "Epoch 8/100\n",
            "34/34 [==============================] - 0s 2ms/step - loss: 5121.4741 - mae: 5121.4741\n",
            "Epoch 9/100\n",
            "34/34 [==============================] - 0s 2ms/step - loss: 4478.3101 - mae: 4478.3101\n",
            "Epoch 10/100\n",
            "34/34 [==============================] - 0s 2ms/step - loss: 5241.3721 - mae: 5241.3721\n",
            "Epoch 11/100\n",
            "34/34 [==============================] - 0s 2ms/step - loss: 4965.6870 - mae: 4965.6870\n",
            "Epoch 12/100\n",
            "34/34 [==============================] - 0s 2ms/step - loss: 5044.1836 - mae: 5044.1836\n",
            "Epoch 13/100\n",
            "34/34 [==============================] - 0s 2ms/step - loss: 5188.0586 - mae: 5188.0586\n",
            "Epoch 14/100\n",
            "34/34 [==============================] - 0s 2ms/step - loss: 5360.7803 - mae: 5360.7803\n",
            "Epoch 15/100\n",
            "34/34 [==============================] - 0s 2ms/step - loss: 4712.8975 - mae: 4712.8975\n",
            "Epoch 16/100\n",
            "34/34 [==============================] - 0s 2ms/step - loss: 4759.5244 - mae: 4759.5244\n",
            "Epoch 17/100\n",
            "34/34 [==============================] - 0s 2ms/step - loss: 5181.1812 - mae: 5181.1812\n",
            "Epoch 18/100\n",
            "34/34 [==============================] - 0s 2ms/step - loss: 4944.7319 - mae: 4944.7319\n",
            "Epoch 19/100\n",
            "34/34 [==============================] - 0s 2ms/step - loss: 4864.4810 - mae: 4864.4810\n",
            "Epoch 20/100\n",
            "34/34 [==============================] - 0s 2ms/step - loss: 5313.8623 - mae: 5313.8623\n",
            "Epoch 21/100\n",
            "34/34 [==============================] - 0s 2ms/step - loss: 4709.7954 - mae: 4709.7954\n",
            "Epoch 22/100\n",
            "34/34 [==============================] - 0s 2ms/step - loss: 4792.0005 - mae: 4792.0005\n",
            "Epoch 23/100\n",
            "34/34 [==============================] - 0s 2ms/step - loss: 5330.8667 - mae: 5330.8667\n",
            "Epoch 24/100\n",
            "34/34 [==============================] - 0s 2ms/step - loss: 5162.5532 - mae: 5162.5532\n",
            "Epoch 25/100\n",
            "34/34 [==============================] - 0s 2ms/step - loss: 4687.0176 - mae: 4687.0176\n",
            "Epoch 26/100\n",
            "34/34 [==============================] - 0s 2ms/step - loss: 5034.2036 - mae: 5034.2036\n",
            "Epoch 27/100\n",
            "34/34 [==============================] - 0s 2ms/step - loss: 4825.2407 - mae: 4825.2407\n",
            "Epoch 28/100\n",
            "34/34 [==============================] - 0s 2ms/step - loss: 4893.7173 - mae: 4893.7173\n",
            "Epoch 29/100\n",
            "34/34 [==============================] - 0s 2ms/step - loss: 4880.4487 - mae: 4880.4487\n",
            "Epoch 30/100\n",
            "34/34 [==============================] - 0s 2ms/step - loss: 5118.8042 - mae: 5118.8042\n",
            "Epoch 31/100\n",
            "34/34 [==============================] - 0s 2ms/step - loss: 5140.3579 - mae: 5140.3579\n",
            "Epoch 32/100\n",
            "34/34 [==============================] - 0s 2ms/step - loss: 4749.7695 - mae: 4749.7695\n",
            "Epoch 33/100\n",
            "34/34 [==============================] - 0s 2ms/step - loss: 5144.7153 - mae: 5144.7153\n",
            "Epoch 34/100\n",
            "34/34 [==============================] - 0s 2ms/step - loss: 4658.6523 - mae: 4658.6523\n",
            "Epoch 35/100\n",
            "34/34 [==============================] - 0s 2ms/step - loss: 5064.7290 - mae: 5064.7290\n",
            "Epoch 36/100\n",
            "34/34 [==============================] - 0s 2ms/step - loss: 5023.4429 - mae: 5023.4429\n",
            "Epoch 37/100\n",
            "34/34 [==============================] - 0s 2ms/step - loss: 5146.7939 - mae: 5146.7939\n",
            "Epoch 38/100\n",
            "34/34 [==============================] - 0s 2ms/step - loss: 5206.5679 - mae: 5206.5679\n",
            "Epoch 39/100\n",
            "34/34 [==============================] - 0s 2ms/step - loss: 5083.5073 - mae: 5083.5073\n",
            "Epoch 40/100\n",
            "34/34 [==============================] - 0s 2ms/step - loss: 5289.4834 - mae: 5289.4834\n",
            "Epoch 41/100\n",
            "34/34 [==============================] - 0s 2ms/step - loss: 5303.3940 - mae: 5303.3940\n",
            "Epoch 42/100\n",
            "34/34 [==============================] - 0s 2ms/step - loss: 5204.0610 - mae: 5204.0610\n",
            "Epoch 43/100\n",
            "34/34 [==============================] - 0s 2ms/step - loss: 4912.8242 - mae: 4912.8242\n",
            "Epoch 44/100\n",
            "34/34 [==============================] - 0s 2ms/step - loss: 4967.2612 - mae: 4967.2612\n",
            "Epoch 45/100\n",
            "34/34 [==============================] - 0s 2ms/step - loss: 5005.0830 - mae: 5005.0830\n",
            "Epoch 46/100\n",
            "34/34 [==============================] - 0s 2ms/step - loss: 4800.2598 - mae: 4800.2598\n",
            "Epoch 47/100\n",
            "34/34 [==============================] - 0s 2ms/step - loss: 4869.8472 - mae: 4869.8472\n",
            "Epoch 48/100\n",
            "34/34 [==============================] - 0s 2ms/step - loss: 5489.2637 - mae: 5489.2637\n",
            "Epoch 49/100\n",
            "34/34 [==============================] - 0s 2ms/step - loss: 5152.5732 - mae: 5152.5732\n",
            "Epoch 50/100\n",
            "34/34 [==============================] - 0s 2ms/step - loss: 4642.7881 - mae: 4642.7881\n",
            "Epoch 51/100\n",
            "34/34 [==============================] - 0s 2ms/step - loss: 5315.1548 - mae: 5315.1548\n",
            "Epoch 52/100\n",
            "34/34 [==============================] - 0s 2ms/step - loss: 4962.1577 - mae: 4962.1577\n",
            "Epoch 53/100\n",
            "34/34 [==============================] - 0s 2ms/step - loss: 4681.8940 - mae: 4681.8940\n",
            "Epoch 54/100\n",
            "34/34 [==============================] - 0s 2ms/step - loss: 5226.8716 - mae: 5226.8716\n",
            "Epoch 55/100\n",
            "34/34 [==============================] - 0s 2ms/step - loss: 4689.4824 - mae: 4689.4824\n",
            "Epoch 56/100\n",
            "34/34 [==============================] - 0s 2ms/step - loss: 5037.8740 - mae: 5037.8740\n",
            "Epoch 57/100\n",
            "34/34 [==============================] - 0s 2ms/step - loss: 4903.5806 - mae: 4903.5806\n",
            "Epoch 58/100\n",
            "34/34 [==============================] - 0s 2ms/step - loss: 4795.5767 - mae: 4795.5767\n",
            "Epoch 59/100\n",
            "34/34 [==============================] - 0s 2ms/step - loss: 4652.7124 - mae: 4652.7124\n",
            "Epoch 60/100\n",
            "34/34 [==============================] - 0s 2ms/step - loss: 5203.8223 - mae: 5203.8223\n",
            "Epoch 61/100\n",
            "34/34 [==============================] - 0s 2ms/step - loss: 4708.3203 - mae: 4708.3203\n",
            "Epoch 62/100\n",
            "34/34 [==============================] - 0s 2ms/step - loss: 5236.7095 - mae: 5236.7095\n",
            "Epoch 63/100\n",
            "34/34 [==============================] - 0s 2ms/step - loss: 5441.8984 - mae: 5441.8984\n",
            "Epoch 64/100\n",
            "34/34 [==============================] - 0s 2ms/step - loss: 4868.5513 - mae: 4868.5513\n",
            "Epoch 65/100\n",
            "34/34 [==============================] - 0s 2ms/step - loss: 5294.5474 - mae: 5294.5474\n",
            "Epoch 66/100\n",
            "34/34 [==============================] - 0s 2ms/step - loss: 5141.5840 - mae: 5141.5840\n",
            "Epoch 67/100\n",
            "34/34 [==============================] - 0s 2ms/step - loss: 5173.7466 - mae: 5173.7466\n",
            "Epoch 68/100\n",
            "34/34 [==============================] - 0s 2ms/step - loss: 4827.7627 - mae: 4827.7627\n",
            "Epoch 69/100\n",
            "34/34 [==============================] - 0s 2ms/step - loss: 5387.8975 - mae: 5387.8975\n",
            "Epoch 70/100\n",
            "34/34 [==============================] - 0s 2ms/step - loss: 4783.7852 - mae: 4783.7852\n",
            "Epoch 71/100\n",
            "34/34 [==============================] - 0s 2ms/step - loss: 4788.4673 - mae: 4788.4673\n",
            "Epoch 72/100\n",
            "34/34 [==============================] - 0s 2ms/step - loss: 4942.0659 - mae: 4942.0659\n",
            "Epoch 73/100\n",
            "34/34 [==============================] - 0s 2ms/step - loss: 4760.3174 - mae: 4760.3174\n",
            "Epoch 74/100\n",
            "34/34 [==============================] - 0s 2ms/step - loss: 5240.5054 - mae: 5240.5054\n",
            "Epoch 75/100\n",
            "34/34 [==============================] - 0s 2ms/step - loss: 4900.4766 - mae: 4900.4766\n",
            "Epoch 76/100\n",
            "34/34 [==============================] - 0s 2ms/step - loss: 4958.0371 - mae: 4958.0371\n",
            "Epoch 77/100\n",
            "34/34 [==============================] - 0s 2ms/step - loss: 4978.2305 - mae: 4978.2305\n",
            "Epoch 78/100\n",
            "34/34 [==============================] - 0s 2ms/step - loss: 4708.4102 - mae: 4708.4102\n",
            "Epoch 79/100\n",
            "34/34 [==============================] - 0s 2ms/step - loss: 5492.0732 - mae: 5492.0732\n",
            "Epoch 80/100\n",
            "34/34 [==============================] - 0s 2ms/step - loss: 5144.6860 - mae: 5144.6860\n",
            "Epoch 81/100\n",
            "34/34 [==============================] - 0s 2ms/step - loss: 4862.1064 - mae: 4862.1064\n",
            "Epoch 82/100\n",
            "34/34 [==============================] - 0s 2ms/step - loss: 4950.1475 - mae: 4950.1475\n",
            "Epoch 83/100\n",
            "34/34 [==============================] - 0s 2ms/step - loss: 4725.2441 - mae: 4725.2441\n",
            "Epoch 84/100\n",
            "34/34 [==============================] - 0s 2ms/step - loss: 4768.6362 - mae: 4768.6362\n",
            "Epoch 85/100\n",
            "34/34 [==============================] - 0s 2ms/step - loss: 4978.8418 - mae: 4978.8418\n",
            "Epoch 86/100\n",
            "34/34 [==============================] - 0s 2ms/step - loss: 4860.2373 - mae: 4860.2373\n",
            "Epoch 87/100\n",
            "34/34 [==============================] - 0s 2ms/step - loss: 5077.7896 - mae: 5077.7896\n",
            "Epoch 88/100\n",
            "34/34 [==============================] - 0s 2ms/step - loss: 4714.5518 - mae: 4714.5518\n",
            "Epoch 89/100\n",
            "34/34 [==============================] - 0s 2ms/step - loss: 4958.3691 - mae: 4958.3691\n",
            "Epoch 90/100\n",
            "34/34 [==============================] - 0s 2ms/step - loss: 5466.9619 - mae: 5466.9619\n",
            "Epoch 91/100\n",
            "34/34 [==============================] - 0s 2ms/step - loss: 4793.9282 - mae: 4793.9282\n",
            "Epoch 92/100\n",
            "34/34 [==============================] - 0s 2ms/step - loss: 4898.0728 - mae: 4898.0728\n",
            "Epoch 93/100\n",
            "34/34 [==============================] - 0s 2ms/step - loss: 5066.2388 - mae: 5066.2388\n",
            "Epoch 94/100\n",
            "34/34 [==============================] - 0s 2ms/step - loss: 5068.7954 - mae: 5068.7954\n",
            "Epoch 95/100\n",
            "34/34 [==============================] - 0s 2ms/step - loss: 4295.9653 - mae: 4295.9653\n",
            "Epoch 96/100\n",
            "34/34 [==============================] - 0s 2ms/step - loss: 4884.8735 - mae: 4884.8735\n",
            "Epoch 97/100\n",
            "34/34 [==============================] - 0s 2ms/step - loss: 4188.7881 - mae: 4188.7881\n",
            "Epoch 98/100\n",
            "34/34 [==============================] - 0s 2ms/step - loss: 4848.8975 - mae: 4848.8975\n",
            "Epoch 99/100\n",
            "34/34 [==============================] - 0s 2ms/step - loss: 4490.2720 - mae: 4490.2720\n",
            "Epoch 100/100\n",
            "34/34 [==============================] - 0s 2ms/step - loss: 5040.7886 - mae: 5040.7886\n"
          ]
        }
      ]
    },
    {
      "cell_type": "code",
      "source": [
        "model.evaluate(X_test, y_test)"
      ],
      "metadata": {
        "colab": {
          "base_uri": "https://localhost:8080/"
        },
        "id": "6ETnB3dL98B5",
        "outputId": "3a33861c-377b-4c90-d1b2-37f0ae56b610"
      },
      "execution_count": 61,
      "outputs": [
        {
          "output_type": "stream",
          "name": "stdout",
          "text": [
            "9/9 [==============================] - 0s 3ms/step - loss: 5227.4814 - mae: 5227.4814\n"
          ]
        },
        {
          "output_type": "execute_result",
          "data": {
            "text/plain": [
              "[5227.4814453125, 5227.4814453125]"
            ]
          },
          "metadata": {},
          "execution_count": 61
        }
      ]
    },
    {
      "cell_type": "code",
      "source": [
        "pd.DataFrame(history.history).plot()"
      ],
      "metadata": {
        "colab": {
          "base_uri": "https://localhost:8080/",
          "height": 447
        },
        "id": "2wQZbVl5_CzY",
        "outputId": "8b0811fd-dfdc-4d09-c6cf-2cfb0a04a8b9"
      },
      "execution_count": 62,
      "outputs": [
        {
          "output_type": "execute_result",
          "data": {
            "text/plain": [
              "<Axes: >"
            ]
          },
          "metadata": {},
          "execution_count": 62
        },
        {
          "output_type": "display_data",
          "data": {
            "text/plain": [
              "<Figure size 640x480 with 1 Axes>"
            ],
            "image/png": "[encoded data removed]"
          },
          "metadata": {}
        }
      ]
    },
    {
      "cell_type": "code",
      "source": [
        "tf.random.set_seed(42)\n",
        "\n",
        "model = Sequential([\n",
        "    Dense(256, input_shape=(11,), activation='relu'),\n",
        "    Dense(64, activation='relu'),\n",
        "    Dense(1, activation='relu')\n",
        "])\n",
        "\n",
        "model.summary()"
      ],
      "metadata": {
        "colab": {
          "base_uri": "https://localhost:8080/"
        },
        "id": "W6XXDvFb_OsF",
        "outputId": "21f0939e-08a5-4d58-daef-1f62534e5891"
      },
      "execution_count": 63,
      "outputs": [
        {
          "output_type": "stream",
          "name": "stdout",
          "text": [
            "Model: \"sequential_8\"\n",
            "_________________________________________________________________\n",
            " Layer (type)                Output Shape              Param #   \n",
            "=================================================================\n",
            " dense_21 (Dense)            (None, 256)               3072      \n",
            "                                                                 \n",
            " dense_22 (Dense)            (None, 64)                16448     \n",
            "                                                                 \n",
            " dense_23 (Dense)            (None, 1)                 65        \n",
            "                                                                 \n",
            "=================================================================\n",
            "Total params: 19,585\n",
            "Trainable params: 19,585\n",
            "Non-trainable params: 0\n",
            "_________________________________________________________________\n"
          ]
        }
      ]
    },
    {
      "cell_type": "code",
      "source": [
        "model.compile(loss=tf.keras.losses.mae,\n",
        "              optimizer=tf.keras.optimizers.Adam(),\n",
        "              metrics=['mae'])"
      ],
      "metadata": {
        "id": "gBAF2qlf_iqK"
      },
      "execution_count": 64,
      "outputs": []
    },
    {
      "cell_type": "code",
      "source": [
        "history = model.fit(X_train, y_train, epochs=200)"
      ],
      "metadata": {
        "colab": {
          "base_uri": "https://localhost:8080/"
        },
        "id": "uW0LsqF0_3Ff",
        "outputId": "4454f5bb-4fea-4b4e-ab27-e24f2f93bb4e"
      },
      "execution_count": 68,
      "outputs": [
        {
          "output_type": "stream",
          "name": "stdout",
          "text": [
            "Epoch 1/200\n",
            "34/34 [==============================] - 0s 3ms/step - loss: 3201.7236 - mae: 3201.7236\n",
            "Epoch 2/200\n",
            "34/34 [==============================] - 0s 4ms/step - loss: 3204.5452 - mae: 3204.5452\n",
            "Epoch 3/200\n",
            "34/34 [==============================] - 0s 4ms/step - loss: 3200.6750 - mae: 3200.6750\n",
            "Epoch 4/200\n",
            "34/34 [==============================] - 0s 3ms/step - loss: 3201.6113 - mae: 3201.6113\n",
            "Epoch 5/200\n",
            "34/34 [==============================] - 0s 3ms/step - loss: 3204.7529 - mae: 3204.7529\n",
            "Epoch 6/200\n",
            "34/34 [==============================] - 0s 3ms/step - loss: 3199.4600 - mae: 3199.4600\n",
            "Epoch 7/200\n",
            "34/34 [==============================] - 0s 3ms/step - loss: 3200.2671 - mae: 3200.2671\n",
            "Epoch 8/200\n",
            "34/34 [==============================] - 0s 3ms/step - loss: 3198.7795 - mae: 3198.7795\n",
            "Epoch 9/200\n",
            "34/34 [==============================] - 0s 3ms/step - loss: 3197.7871 - mae: 3197.7871\n",
            "Epoch 10/200\n",
            "34/34 [==============================] - 0s 3ms/step - loss: 3197.3528 - mae: 3197.3528\n",
            "Epoch 11/200\n",
            "34/34 [==============================] - 0s 4ms/step - loss: 3197.4497 - mae: 3197.4497\n",
            "Epoch 12/200\n",
            "34/34 [==============================] - 0s 3ms/step - loss: 3196.2524 - mae: 3196.2524\n",
            "Epoch 13/200\n",
            "34/34 [==============================] - 0s 3ms/step - loss: 3198.2158 - mae: 3198.2158\n",
            "Epoch 14/200\n",
            "34/34 [==============================] - 0s 3ms/step - loss: 3195.0586 - mae: 3195.0586\n",
            "Epoch 15/200\n",
            "34/34 [==============================] - 0s 3ms/step - loss: 3195.4321 - mae: 3195.4321\n",
            "Epoch 16/200\n",
            "34/34 [==============================] - 0s 3ms/step - loss: 3193.7361 - mae: 3193.7361\n",
            "Epoch 17/200\n",
            "34/34 [==============================] - 0s 3ms/step - loss: 3193.1929 - mae: 3193.1929\n",
            "Epoch 18/200\n",
            "34/34 [==============================] - 0s 4ms/step - loss: 3195.4792 - mae: 3195.4792\n",
            "Epoch 19/200\n",
            "34/34 [==============================] - 0s 3ms/step - loss: 3191.7256 - mae: 3191.7256\n",
            "Epoch 20/200\n",
            "34/34 [==============================] - 0s 2ms/step - loss: 3193.9167 - mae: 3193.9167\n",
            "Epoch 21/200\n",
            "34/34 [==============================] - 0s 3ms/step - loss: 3192.5669 - mae: 3192.5669\n",
            "Epoch 22/200\n",
            "34/34 [==============================] - 0s 3ms/step - loss: 3191.4236 - mae: 3191.4236\n",
            "Epoch 23/200\n",
            "34/34 [==============================] - 0s 2ms/step - loss: 3190.3901 - mae: 3190.3901\n",
            "Epoch 24/200\n",
            "34/34 [==============================] - 0s 2ms/step - loss: 3191.1353 - mae: 3191.1353\n",
            "Epoch 25/200\n",
            "34/34 [==============================] - 0s 2ms/step - loss: 3190.2004 - mae: 3190.2004\n",
            "Epoch 26/200\n",
            "34/34 [==============================] - 0s 2ms/step - loss: 3191.3320 - mae: 3191.3320\n",
            "Epoch 27/200\n",
            "34/34 [==============================] - 0s 2ms/step - loss: 3189.3223 - mae: 3189.3223\n",
            "Epoch 28/200\n",
            "34/34 [==============================] - 0s 2ms/step - loss: 3187.9436 - mae: 3187.9436\n",
            "Epoch 29/200\n",
            "34/34 [==============================] - 0s 3ms/step - loss: 3188.9614 - mae: 3188.9614\n",
            "Epoch 30/200\n",
            "34/34 [==============================] - 0s 3ms/step - loss: 3187.8245 - mae: 3187.8245\n",
            "Epoch 31/200\n",
            "34/34 [==============================] - 0s 4ms/step - loss: 3187.8877 - mae: 3187.8877\n",
            "Epoch 32/200\n",
            "34/34 [==============================] - 0s 4ms/step - loss: 3190.5337 - mae: 3190.5337\n",
            "Epoch 33/200\n",
            "34/34 [==============================] - 0s 4ms/step - loss: 3184.8699 - mae: 3184.8699\n",
            "Epoch 34/200\n",
            "34/34 [==============================] - 0s 3ms/step - loss: 3184.0835 - mae: 3184.0835\n",
            "Epoch 35/200\n",
            "34/34 [==============================] - 0s 3ms/step - loss: 3186.5740 - mae: 3186.5740\n",
            "Epoch 36/200\n",
            "34/34 [==============================] - 0s 4ms/step - loss: 3187.6106 - mae: 3187.6106\n",
            "Epoch 37/200\n",
            "34/34 [==============================] - 0s 4ms/step - loss: 3184.1277 - mae: 3184.1277\n",
            "Epoch 38/200\n",
            "34/34 [==============================] - 0s 3ms/step - loss: 3182.5432 - mae: 3182.5432\n",
            "Epoch 39/200\n",
            "34/34 [==============================] - 0s 2ms/step - loss: 3181.3569 - mae: 3181.3569\n",
            "Epoch 40/200\n",
            "34/34 [==============================] - 0s 2ms/step - loss: 3186.7913 - mae: 3186.7913\n",
            "Epoch 41/200\n",
            "34/34 [==============================] - 0s 2ms/step - loss: 3185.3723 - mae: 3185.3723\n",
            "Epoch 42/200\n",
            "34/34 [==============================] - 0s 3ms/step - loss: 3183.5176 - mae: 3183.5176\n",
            "Epoch 43/200\n",
            "34/34 [==============================] - 0s 2ms/step - loss: 3182.5972 - mae: 3182.5972\n",
            "Epoch 44/200\n",
            "34/34 [==============================] - 0s 2ms/step - loss: 3179.4758 - mae: 3179.4758\n",
            "Epoch 45/200\n",
            "34/34 [==============================] - 0s 3ms/step - loss: 3177.8379 - mae: 3177.8379\n",
            "Epoch 46/200\n",
            "34/34 [==============================] - 0s 2ms/step - loss: 3177.0898 - mae: 3177.0898\n",
            "Epoch 47/200\n",
            "34/34 [==============================] - 0s 2ms/step - loss: 3177.4309 - mae: 3177.4309\n",
            "Epoch 48/200\n",
            "34/34 [==============================] - 0s 2ms/step - loss: 3179.2585 - mae: 3179.2585\n",
            "Epoch 49/200\n",
            "34/34 [==============================] - 0s 3ms/step - loss: 3180.3237 - mae: 3180.3237\n",
            "Epoch 50/200\n",
            "34/34 [==============================] - 0s 4ms/step - loss: 3178.1074 - mae: 3178.1074\n",
            "Epoch 51/200\n",
            "34/34 [==============================] - 0s 4ms/step - loss: 3177.1326 - mae: 3177.1326\n",
            "Epoch 52/200\n",
            "34/34 [==============================] - 0s 4ms/step - loss: 3177.8647 - mae: 3177.8647\n",
            "Epoch 53/200\n",
            "34/34 [==============================] - 0s 4ms/step - loss: 3173.4739 - mae: 3173.4739\n",
            "Epoch 54/200\n",
            "34/34 [==============================] - 0s 3ms/step - loss: 3174.0049 - mae: 3174.0049\n",
            "Epoch 55/200\n",
            "34/34 [==============================] - 0s 4ms/step - loss: 3174.0349 - mae: 3174.0349\n",
            "Epoch 56/200\n",
            "34/34 [==============================] - 0s 3ms/step - loss: 3173.8801 - mae: 3173.8801\n",
            "Epoch 57/200\n",
            "34/34 [==============================] - 0s 2ms/step - loss: 3171.5730 - mae: 3171.5730\n",
            "Epoch 58/200\n",
            "34/34 [==============================] - 0s 3ms/step - loss: 3172.5540 - mae: 3172.5540\n",
            "Epoch 59/200\n",
            "34/34 [==============================] - 0s 2ms/step - loss: 3169.8140 - mae: 3169.8140\n",
            "Epoch 60/200\n",
            "34/34 [==============================] - 0s 2ms/step - loss: 3170.5791 - mae: 3170.5791\n",
            "Epoch 61/200\n",
            "34/34 [==============================] - 0s 2ms/step - loss: 3169.8340 - mae: 3169.8340\n",
            "Epoch 62/200\n",
            "34/34 [==============================] - 0s 4ms/step - loss: 3168.6792 - mae: 3168.6792\n",
            "Epoch 63/200\n",
            "34/34 [==============================] - 0s 4ms/step - loss: 3169.8931 - mae: 3169.8931\n",
            "Epoch 64/200\n",
            "34/34 [==============================] - 0s 4ms/step - loss: 3167.0950 - mae: 3167.0950\n",
            "Epoch 65/200\n",
            "34/34 [==============================] - 0s 4ms/step - loss: 3165.4517 - mae: 3165.4517\n",
            "Epoch 66/200\n",
            "34/34 [==============================] - 0s 4ms/step - loss: 3166.0049 - mae: 3166.0049\n",
            "Epoch 67/200\n",
            "34/34 [==============================] - 0s 4ms/step - loss: 3166.2998 - mae: 3166.2998\n",
            "Epoch 68/200\n",
            "34/34 [==============================] - 0s 4ms/step - loss: 3163.2725 - mae: 3163.2725\n",
            "Epoch 69/200\n",
            "34/34 [==============================] - 0s 4ms/step - loss: 3162.8157 - mae: 3162.8157\n",
            "Epoch 70/200\n",
            "34/34 [==============================] - 0s 4ms/step - loss: 3162.2805 - mae: 3162.2805\n",
            "Epoch 71/200\n",
            "34/34 [==============================] - 0s 6ms/step - loss: 3160.0632 - mae: 3160.0632\n",
            "Epoch 72/200\n",
            "34/34 [==============================] - 0s 6ms/step - loss: 3161.8193 - mae: 3161.8193\n",
            "Epoch 73/200\n",
            "34/34 [==============================] - 0s 11ms/step - loss: 3160.4312 - mae: 3160.4312\n",
            "Epoch 74/200\n",
            "34/34 [==============================] - 0s 8ms/step - loss: 3159.4104 - mae: 3159.4104\n",
            "Epoch 75/200\n",
            "34/34 [==============================] - 0s 9ms/step - loss: 3159.5303 - mae: 3159.5303\n",
            "Epoch 76/200\n",
            "34/34 [==============================] - 0s 9ms/step - loss: 3155.8945 - mae: 3155.8945\n",
            "Epoch 77/200\n",
            "34/34 [==============================] - 0s 8ms/step - loss: 3155.3486 - mae: 3155.3486\n",
            "Epoch 78/200\n",
            "34/34 [==============================] - 0s 9ms/step - loss: 3156.8179 - mae: 3156.8179\n",
            "Epoch 79/200\n",
            "34/34 [==============================] - 0s 9ms/step - loss: 3154.7214 - mae: 3154.7214\n",
            "Epoch 80/200\n",
            "34/34 [==============================] - 0s 10ms/step - loss: 3153.3669 - mae: 3153.3669\n",
            "Epoch 81/200\n",
            "34/34 [==============================] - 0s 5ms/step - loss: 3152.8657 - mae: 3152.8657\n",
            "Epoch 82/200\n",
            "34/34 [==============================] - 0s 5ms/step - loss: 3151.2021 - mae: 3151.2021\n",
            "Epoch 83/200\n",
            "34/34 [==============================] - 0s 4ms/step - loss: 3150.7065 - mae: 3150.7065\n",
            "Epoch 84/200\n",
            "34/34 [==============================] - 0s 2ms/step - loss: 3152.8879 - mae: 3152.8879\n",
            "Epoch 85/200\n",
            "34/34 [==============================] - 0s 2ms/step - loss: 3152.6907 - mae: 3152.6907\n",
            "Epoch 86/200\n",
            "34/34 [==============================] - 0s 2ms/step - loss: 3150.1157 - mae: 3150.1157\n",
            "Epoch 87/200\n",
            "34/34 [==============================] - 0s 2ms/step - loss: 3147.9397 - mae: 3147.9397\n",
            "Epoch 88/200\n",
            "34/34 [==============================] - 0s 2ms/step - loss: 3145.3328 - mae: 3145.3328\n",
            "Epoch 89/200\n",
            "34/34 [==============================] - 0s 3ms/step - loss: 3144.5061 - mae: 3144.5061\n",
            "Epoch 90/200\n",
            "34/34 [==============================] - 0s 2ms/step - loss: 3146.4387 - mae: 3146.4387\n",
            "Epoch 91/200\n",
            "34/34 [==============================] - 0s 2ms/step - loss: 3144.4546 - mae: 3144.4546\n",
            "Epoch 92/200\n",
            "34/34 [==============================] - 0s 2ms/step - loss: 3140.7629 - mae: 3140.7629\n",
            "Epoch 93/200\n",
            "34/34 [==============================] - 0s 2ms/step - loss: 3142.2476 - mae: 3142.2476\n",
            "Epoch 94/200\n",
            "34/34 [==============================] - 0s 2ms/step - loss: 3139.2429 - mae: 3139.2429\n",
            "Epoch 95/200\n",
            "34/34 [==============================] - 0s 3ms/step - loss: 3139.1328 - mae: 3139.1328\n",
            "Epoch 96/200\n",
            "34/34 [==============================] - 0s 4ms/step - loss: 3140.4763 - mae: 3140.4763\n",
            "Epoch 97/200\n",
            "34/34 [==============================] - 0s 4ms/step - loss: 3135.4492 - mae: 3135.4492\n",
            "Epoch 98/200\n",
            "34/34 [==============================] - 0s 4ms/step - loss: 3136.3909 - mae: 3136.3909\n",
            "Epoch 99/200\n",
            "34/34 [==============================] - 0s 4ms/step - loss: 3133.7908 - mae: 3133.7908\n",
            "Epoch 100/200\n",
            "34/34 [==============================] - 0s 4ms/step - loss: 3131.8337 - mae: 3131.8337\n",
            "Epoch 101/200\n",
            "34/34 [==============================] - 0s 3ms/step - loss: 3130.2109 - mae: 3130.2109\n",
            "Epoch 102/200\n",
            "34/34 [==============================] - 0s 3ms/step - loss: 3131.3687 - mae: 3131.3687\n",
            "Epoch 103/200\n",
            "34/34 [==============================] - 0s 4ms/step - loss: 3133.0679 - mae: 3133.0679\n",
            "Epoch 104/200\n",
            "34/34 [==============================] - 0s 3ms/step - loss: 3131.4373 - mae: 3131.4373\n",
            "Epoch 105/200\n",
            "34/34 [==============================] - 0s 4ms/step - loss: 3126.3394 - mae: 3126.3394\n",
            "Epoch 106/200\n",
            "34/34 [==============================] - 0s 4ms/step - loss: 3127.8333 - mae: 3127.8333\n",
            "Epoch 107/200\n",
            "34/34 [==============================] - 0s 4ms/step - loss: 3126.0664 - mae: 3126.0664\n",
            "Epoch 108/200\n",
            "34/34 [==============================] - 0s 4ms/step - loss: 3123.1799 - mae: 3123.1799\n",
            "Epoch 109/200\n",
            "34/34 [==============================] - 0s 4ms/step - loss: 3120.8208 - mae: 3120.8208\n",
            "Epoch 110/200\n",
            "34/34 [==============================] - 0s 4ms/step - loss: 3120.5505 - mae: 3120.5505\n",
            "Epoch 111/200\n",
            "34/34 [==============================] - 0s 3ms/step - loss: 3119.3293 - mae: 3119.3293\n",
            "Epoch 112/200\n",
            "34/34 [==============================] - 0s 4ms/step - loss: 3116.2854 - mae: 3116.2854\n",
            "Epoch 113/200\n",
            "34/34 [==============================] - 0s 4ms/step - loss: 3117.8513 - mae: 3117.8513\n",
            "Epoch 114/200\n",
            "34/34 [==============================] - 0s 4ms/step - loss: 3117.5701 - mae: 3117.5701\n",
            "Epoch 115/200\n",
            "34/34 [==============================] - 0s 3ms/step - loss: 3116.0364 - mae: 3116.0364\n",
            "Epoch 116/200\n",
            "34/34 [==============================] - 0s 3ms/step - loss: 3113.2021 - mae: 3113.2021\n",
            "Epoch 117/200\n",
            "34/34 [==============================] - 0s 3ms/step - loss: 3110.9856 - mae: 3110.9856\n",
            "Epoch 118/200\n",
            "34/34 [==============================] - 0s 3ms/step - loss: 3112.1121 - mae: 3112.1121\n",
            "Epoch 119/200\n",
            "34/34 [==============================] - 0s 4ms/step - loss: 3106.6357 - mae: 3106.6357\n",
            "Epoch 120/200\n",
            "34/34 [==============================] - 0s 4ms/step - loss: 3105.7314 - mae: 3105.7314\n",
            "Epoch 121/200\n",
            "34/34 [==============================] - 0s 4ms/step - loss: 3103.1462 - mae: 3103.1462\n",
            "Epoch 122/200\n",
            "34/34 [==============================] - 0s 4ms/step - loss: 3102.2915 - mae: 3102.2915\n",
            "Epoch 123/200\n",
            "34/34 [==============================] - 0s 4ms/step - loss: 3101.5454 - mae: 3101.5454\n",
            "Epoch 124/200\n",
            "34/34 [==============================] - 0s 4ms/step - loss: 3101.5637 - mae: 3101.5637\n",
            "Epoch 125/200\n",
            "34/34 [==============================] - 0s 4ms/step - loss: 3101.2698 - mae: 3101.2698\n",
            "Epoch 126/200\n",
            "34/34 [==============================] - 0s 4ms/step - loss: 3095.4810 - mae: 3095.4810\n",
            "Epoch 127/200\n",
            "34/34 [==============================] - 0s 4ms/step - loss: 3094.7502 - mae: 3094.7502\n",
            "Epoch 128/200\n",
            "34/34 [==============================] - 0s 4ms/step - loss: 3094.1218 - mae: 3094.1218\n",
            "Epoch 129/200\n",
            "34/34 [==============================] - 0s 3ms/step - loss: 3092.6018 - mae: 3092.6018\n",
            "Epoch 130/200\n",
            "34/34 [==============================] - 0s 4ms/step - loss: 3088.0784 - mae: 3088.0784\n",
            "Epoch 131/200\n",
            "34/34 [==============================] - 0s 3ms/step - loss: 3087.4646 - mae: 3087.4646\n",
            "Epoch 132/200\n",
            "34/34 [==============================] - 0s 4ms/step - loss: 3086.7393 - mae: 3086.7393\n",
            "Epoch 133/200\n",
            "34/34 [==============================] - 0s 4ms/step - loss: 3083.5073 - mae: 3083.5073\n",
            "Epoch 134/200\n",
            "34/34 [==============================] - 0s 4ms/step - loss: 3085.0640 - mae: 3085.0640\n",
            "Epoch 135/200\n",
            "34/34 [==============================] - 0s 4ms/step - loss: 3082.0105 - mae: 3082.0105\n",
            "Epoch 136/200\n",
            "34/34 [==============================] - 0s 3ms/step - loss: 3084.2083 - mae: 3084.2083\n",
            "Epoch 137/200\n",
            "34/34 [==============================] - 0s 4ms/step - loss: 3077.3845 - mae: 3077.3845\n",
            "Epoch 138/200\n",
            "34/34 [==============================] - 0s 3ms/step - loss: 3076.2881 - mae: 3076.2881\n",
            "Epoch 139/200\n",
            "34/34 [==============================] - 0s 3ms/step - loss: 3075.3550 - mae: 3075.3550\n",
            "Epoch 140/200\n",
            "34/34 [==============================] - 0s 4ms/step - loss: 3072.4924 - mae: 3072.4924\n",
            "Epoch 141/200\n",
            "34/34 [==============================] - 0s 4ms/step - loss: 3071.2991 - mae: 3071.2991\n",
            "Epoch 142/200\n",
            "34/34 [==============================] - 0s 4ms/step - loss: 3070.2295 - mae: 3070.2295\n",
            "Epoch 143/200\n",
            "34/34 [==============================] - 0s 4ms/step - loss: 3068.9854 - mae: 3068.9854\n",
            "Epoch 144/200\n",
            "34/34 [==============================] - 0s 4ms/step - loss: 3068.4387 - mae: 3068.4387\n",
            "Epoch 145/200\n",
            "34/34 [==============================] - 0s 13ms/step - loss: 3062.8831 - mae: 3062.8831\n",
            "Epoch 146/200\n",
            "34/34 [==============================] - 0s 11ms/step - loss: 3062.7812 - mae: 3062.7812\n",
            "Epoch 147/200\n",
            "34/34 [==============================] - 0s 13ms/step - loss: 3061.5869 - mae: 3061.5869\n",
            "Epoch 148/200\n",
            "34/34 [==============================] - 0s 9ms/step - loss: 3058.9485 - mae: 3058.9485\n",
            "Epoch 149/200\n",
            "34/34 [==============================] - 0s 8ms/step - loss: 3059.5354 - mae: 3059.5354\n",
            "Epoch 150/200\n",
            "34/34 [==============================] - 0s 14ms/step - loss: 3057.1582 - mae: 3057.1582\n",
            "Epoch 151/200\n",
            "34/34 [==============================] - 1s 16ms/step - loss: 3054.0144 - mae: 3054.0144\n",
            "Epoch 152/200\n",
            "34/34 [==============================] - 0s 11ms/step - loss: 3051.3159 - mae: 3051.3159\n",
            "Epoch 153/200\n",
            "34/34 [==============================] - 0s 5ms/step - loss: 3051.0583 - mae: 3051.0583\n",
            "Epoch 154/200\n",
            "34/34 [==============================] - 0s 3ms/step - loss: 3048.3225 - mae: 3048.3225\n",
            "Epoch 155/200\n",
            "34/34 [==============================] - 0s 3ms/step - loss: 3046.0149 - mae: 3046.0149\n",
            "Epoch 156/200\n",
            "34/34 [==============================] - 0s 4ms/step - loss: 3045.1868 - mae: 3045.1868\n",
            "Epoch 157/200\n",
            "34/34 [==============================] - 0s 3ms/step - loss: 3041.5481 - mae: 3041.5481\n",
            "Epoch 158/200\n",
            "34/34 [==============================] - 0s 3ms/step - loss: 3042.2573 - mae: 3042.2573\n",
            "Epoch 159/200\n",
            "34/34 [==============================] - 0s 3ms/step - loss: 3040.1558 - mae: 3040.1558\n",
            "Epoch 160/200\n",
            "34/34 [==============================] - 0s 4ms/step - loss: 3035.7571 - mae: 3035.7571\n",
            "Epoch 161/200\n",
            "34/34 [==============================] - 0s 4ms/step - loss: 3032.8420 - mae: 3032.8420\n",
            "Epoch 162/200\n",
            "34/34 [==============================] - 0s 3ms/step - loss: 3031.3872 - mae: 3031.3872\n",
            "Epoch 163/200\n",
            "34/34 [==============================] - 0s 3ms/step - loss: 3030.5312 - mae: 3030.5312\n",
            "Epoch 164/200\n",
            "34/34 [==============================] - 0s 3ms/step - loss: 3027.3079 - mae: 3027.3079\n",
            "Epoch 165/200\n",
            "34/34 [==============================] - 0s 3ms/step - loss: 3025.8545 - mae: 3025.8545\n",
            "Epoch 166/200\n",
            "34/34 [==============================] - 0s 4ms/step - loss: 3023.3413 - mae: 3023.3413\n",
            "Epoch 167/200\n",
            "34/34 [==============================] - 0s 4ms/step - loss: 3021.9651 - mae: 3021.9651\n",
            "Epoch 168/200\n",
            "34/34 [==============================] - 0s 4ms/step - loss: 3020.0610 - mae: 3020.0610\n",
            "Epoch 169/200\n",
            "34/34 [==============================] - 0s 3ms/step - loss: 3016.9771 - mae: 3016.9771\n",
            "Epoch 170/200\n",
            "34/34 [==============================] - 0s 3ms/step - loss: 3015.5117 - mae: 3015.5117\n",
            "Epoch 171/200\n",
            "34/34 [==============================] - 0s 3ms/step - loss: 3013.0024 - mae: 3013.0024\n",
            "Epoch 172/200\n",
            "34/34 [==============================] - 0s 3ms/step - loss: 3009.5193 - mae: 3009.5193\n",
            "Epoch 173/200\n",
            "34/34 [==============================] - 0s 4ms/step - loss: 3011.3352 - mae: 3011.3352\n",
            "Epoch 174/200\n",
            "34/34 [==============================] - 0s 3ms/step - loss: 3004.9456 - mae: 3004.9456\n",
            "Epoch 175/200\n",
            "34/34 [==============================] - 0s 2ms/step - loss: 3003.3936 - mae: 3003.3936\n",
            "Epoch 176/200\n",
            "34/34 [==============================] - 0s 2ms/step - loss: 3003.3970 - mae: 3003.3970\n",
            "Epoch 177/200\n",
            "34/34 [==============================] - 0s 2ms/step - loss: 2997.7292 - mae: 2997.7292\n",
            "Epoch 178/200\n",
            "34/34 [==============================] - 0s 2ms/step - loss: 2997.1721 - mae: 2997.1721\n",
            "Epoch 179/200\n",
            "34/34 [==============================] - 0s 2ms/step - loss: 2994.6777 - mae: 2994.6777\n",
            "Epoch 180/200\n",
            "34/34 [==============================] - 0s 2ms/step - loss: 2992.9846 - mae: 2992.9846\n",
            "Epoch 181/200\n",
            "34/34 [==============================] - 0s 2ms/step - loss: 2989.8181 - mae: 2989.8181\n",
            "Epoch 182/200\n",
            "34/34 [==============================] - 0s 2ms/step - loss: 2988.9719 - mae: 2988.9719\n",
            "Epoch 183/200\n",
            "34/34 [==============================] - 0s 2ms/step - loss: 2985.0808 - mae: 2985.0808\n",
            "Epoch 184/200\n",
            "34/34 [==============================] - 0s 4ms/step - loss: 2982.3245 - mae: 2982.3245\n",
            "Epoch 185/200\n",
            "34/34 [==============================] - 0s 5ms/step - loss: 2980.4863 - mae: 2980.4863\n",
            "Epoch 186/200\n",
            "34/34 [==============================] - 0s 4ms/step - loss: 2980.0332 - mae: 2980.0332\n",
            "Epoch 187/200\n",
            "34/34 [==============================] - 0s 7ms/step - loss: 2975.3621 - mae: 2975.3621\n",
            "Epoch 188/200\n",
            "34/34 [==============================] - 0s 9ms/step - loss: 2973.3865 - mae: 2973.3865\n",
            "Epoch 189/200\n",
            "34/34 [==============================] - 0s 6ms/step - loss: 2972.2256 - mae: 2972.2256\n",
            "Epoch 190/200\n",
            "34/34 [==============================] - 0s 7ms/step - loss: 2967.8147 - mae: 2967.8147\n",
            "Epoch 191/200\n",
            "34/34 [==============================] - 0s 8ms/step - loss: 2962.8462 - mae: 2962.8462\n",
            "Epoch 192/200\n",
            "34/34 [==============================] - 0s 7ms/step - loss: 2961.7095 - mae: 2961.7095\n",
            "Epoch 193/200\n",
            "34/34 [==============================] - 0s 10ms/step - loss: 2962.5032 - mae: 2962.5032\n",
            "Epoch 194/200\n",
            "34/34 [==============================] - 0s 11ms/step - loss: 2958.3105 - mae: 2958.3105\n",
            "Epoch 195/200\n",
            "34/34 [==============================] - 0s 10ms/step - loss: 2955.0112 - mae: 2955.0112\n",
            "Epoch 196/200\n",
            "34/34 [==============================] - 0s 11ms/step - loss: 2952.3105 - mae: 2952.3105\n",
            "Epoch 197/200\n",
            "34/34 [==============================] - 0s 7ms/step - loss: 2948.9561 - mae: 2948.9561\n",
            "Epoch 198/200\n",
            "34/34 [==============================] - 0s 10ms/step - loss: 2948.5547 - mae: 2948.5547\n",
            "Epoch 199/200\n",
            "34/34 [==============================] - 0s 14ms/step - loss: 2945.1936 - mae: 2945.1936\n",
            "Epoch 200/200\n",
            "34/34 [==============================] - 0s 9ms/step - loss: 2940.6523 - mae: 2940.6523\n"
          ]
        }
      ]
    },
    {
      "cell_type": "code",
      "source": [
        "model.evaluate(X_test, y_test)"
      ],
      "metadata": {
        "colab": {
          "base_uri": "https://localhost:8080/"
        },
        "id": "gAftDNYS_6xr",
        "outputId": "247a1103-5497-4cd9-9a6a-560412378423"
      },
      "execution_count": 69,
      "outputs": [
        {
          "output_type": "stream",
          "name": "stdout",
          "text": [
            "9/9 [==============================] - 0s 2ms/step - loss: 2612.4858 - mae: 2612.4858\n"
          ]
        },
        {
          "output_type": "execute_result",
          "data": {
            "text/plain": [
              "[2612.48583984375, 2612.48583984375]"
            ]
          },
          "metadata": {},
          "execution_count": 69
        }
      ]
    },
    {
      "cell_type": "code",
      "source": [
        "pd.DataFrame(history.history).plot()"
      ],
      "metadata": {
        "colab": {
          "base_uri": "https://localhost:8080/",
          "height": 447
        },
        "id": "gCnqlkkCAFpj",
        "outputId": "497d0ff9-c6e0-4c19-cf6e-543fed01d9c7"
      },
      "execution_count": 70,
      "outputs": [
        {
          "output_type": "execute_result",
          "data": {
            "text/plain": [
              "<Axes: >"
            ]
          },
          "metadata": {},
          "execution_count": 70
        },
        {
          "output_type": "display_data",
          "data": {
            "text/plain": [
              "<Figure size 640x480 with 1 Axes>"
            ],
            "image/png": "[encoded data removed]"
          },
          "metadata": {}
        }
      ]
    },
    {
      "cell_type": "code",
      "source": [],
      "metadata": {
        "id": "HFTYJWj2ALDw"
      },
      "execution_count": null,
      "outputs": []
    }
  ]
}