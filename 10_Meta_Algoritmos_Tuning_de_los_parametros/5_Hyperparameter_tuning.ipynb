{
  "nbformat": 4,
  "nbformat_minor": 0,
  "metadata": {
    "colab": {
      "provenance": [],
      "gpuType": "T4"
    },
    "kernelspec": {
      "name": "python3",
      "display_name": "Python 3"
    },
    "language_info": {
      "name": "python"
    },
    "accelerator": "GPU",
    "gpuClass": "standard"
  },
  "cells": [
    {
      "cell_type": "markdown",
      "source": [
        "# Dataset"
      ],
      "metadata": {
        "id": "T6y0uTodK-HF"
      }
    },
    {
      "cell_type": "code",
      "execution_count": 1,
      "metadata": {
        "colab": {
          "base_uri": "https://localhost:8080/",
          "height": 206
        },
        "id": "maWJnjCtIlF6",
        "outputId": "9b9a79ae-f977-4f81-963e-3b02301c28a0"
      },
      "outputs": [
        {
          "output_type": "execute_result",
          "data": {
            "text/plain": [
              "       ID  Gender Ever_Married  Age Graduated  Profession  Work_Experience  \\\n",
              "0  458989  Female          Yes   36       Yes    Engineer              0.0   \n",
              "1  458994    Male          Yes   37       Yes  Healthcare              8.0   \n",
              "3  459000    Male          Yes   59        No   Executive             11.0   \n",
              "5  459003    Male          Yes   47       Yes      Doctor              0.0   \n",
              "6  459005    Male          Yes   61       Yes      Doctor              5.0   \n",
              "\n",
              "  Spending_Score  Family_Size  Var_1 Segmentation  \n",
              "0            Low          1.0  Cat_6            B  \n",
              "1        Average          4.0  Cat_6            A  \n",
              "3           High          2.0  Cat_6            B  \n",
              "5           High          5.0  Cat_4            C  \n",
              "6            Low          3.0  Cat_6            D  "
            ],
            "text/html": [
              "\n",
              "  <div id=\"df-f8259bde-b002-435e-b539-9b5183896dd5\">\n",
              "    <div class=\"colab-df-container\">\n",
              "      <div>\n",
              "<style scoped>\n",
              "    .dataframe tbody tr th:only-of-type {\n",
              "        vertical-align: middle;\n",
              "    }\n",
              "\n",
              "    .dataframe tbody tr th {\n",
              "        vertical-align: top;\n",
              "    }\n",
              "\n",
              "    .dataframe thead th {\n",
              "        text-align: right;\n",
              "    }\n",
              "</style>\n",
              "<table border=\"1\" class=\"dataframe\">\n",
              "  <thead>\n",
              "    <tr style=\"text-align: right;\">\n",
              "      <th></th>\n",
              "      <th>ID</th>\n",
              "      <th>Gender</th>\n",
              "      <th>Ever_Married</th>\n",
              "      <th>Age</th>\n",
              "      <th>Graduated</th>\n",
              "      <th>Profession</th>\n",
              "      <th>Work_Experience</th>\n",
              "      <th>Spending_Score</th>\n",
              "      <th>Family_Size</th>\n",
              "      <th>Var_1</th>\n",
              "      <th>Segmentation</th>\n",
              "    </tr>\n",
              "  </thead>\n",
              "  <tbody>\n",
              "    <tr>\n",
              "      <th>0</th>\n",
              "      <td>458989</td>\n",
              "      <td>Female</td>\n",
              "      <td>Yes</td>\n",
              "      <td>36</td>\n",
              "      <td>Yes</td>\n",
              "      <td>Engineer</td>\n",
              "      <td>0.0</td>\n",
              "      <td>Low</td>\n",
              "      <td>1.0</td>\n",
              "      <td>Cat_6</td>\n",
              "      <td>B</td>\n",
              "    </tr>\n",
              "    <tr>\n",
              "      <th>1</th>\n",
              "      <td>458994</td>\n",
              "      <td>Male</td>\n",
              "      <td>Yes</td>\n",
              "      <td>37</td>\n",
              "      <td>Yes</td>\n",
              "      <td>Healthcare</td>\n",
              "      <td>8.0</td>\n",
              "      <td>Average</td>\n",
              "      <td>4.0</td>\n",
              "      <td>Cat_6</td>\n",
              "      <td>A</td>\n",
              "    </tr>\n",
              "    <tr>\n",
              "      <th>3</th>\n",
              "      <td>459000</td>\n",
              "      <td>Male</td>\n",
              "      <td>Yes</td>\n",
              "      <td>59</td>\n",
              "      <td>No</td>\n",
              "      <td>Executive</td>\n",
              "      <td>11.0</td>\n",
              "      <td>High</td>\n",
              "      <td>2.0</td>\n",
              "      <td>Cat_6</td>\n",
              "      <td>B</td>\n",
              "    </tr>\n",
              "    <tr>\n",
              "      <th>5</th>\n",
              "      <td>459003</td>\n",
              "      <td>Male</td>\n",
              "      <td>Yes</td>\n",
              "      <td>47</td>\n",
              "      <td>Yes</td>\n",
              "      <td>Doctor</td>\n",
              "      <td>0.0</td>\n",
              "      <td>High</td>\n",
              "      <td>5.0</td>\n",
              "      <td>Cat_4</td>\n",
              "      <td>C</td>\n",
              "    </tr>\n",
              "    <tr>\n",
              "      <th>6</th>\n",
              "      <td>459005</td>\n",
              "      <td>Male</td>\n",
              "      <td>Yes</td>\n",
              "      <td>61</td>\n",
              "      <td>Yes</td>\n",
              "      <td>Doctor</td>\n",
              "      <td>5.0</td>\n",
              "      <td>Low</td>\n",
              "      <td>3.0</td>\n",
              "      <td>Cat_6</td>\n",
              "      <td>D</td>\n",
              "    </tr>\n",
              "  </tbody>\n",
              "</table>\n",
              "</div>\n",
              "      <button class=\"colab-df-convert\" onclick=\"convertToInteractive('df-f8259bde-b002-435e-b539-9b5183896dd5')\"\n",
              "              title=\"Convert this dataframe to an interactive table.\"\n",
              "              style=\"display:none;\">\n",
              "        \n",
              "  <svg xmlns=\"http://www.w3.org/2000/svg\" height=\"24px\"viewBox=\"0 0 24 24\"\n",
              "       width=\"24px\">\n",
              "    <path d=\"M0 0h24v24H0V0z\" fill=\"none\"/>\n",
              "    <path d=\"M18.56 5.44l.94 2.06.94-2.06 2.06-.94-2.06-.94-.94-2.06-.94 2.06-2.06.94zm-11 1L8.5 8.5l.94-2.06 2.06-.94-2.06-.94L8.5 2.5l-.94 2.06-2.06.94zm10 10l.94 2.06.94-2.06 2.06-.94-2.06-.94-.94-2.06-.94 2.06-2.06.94z\"/><path d=\"M17.41 7.96l-1.37-1.37c-.4-.4-.92-.59-1.43-.59-.52 0-1.04.2-1.43.59L10.3 9.45l-7.72 7.72c-.78.78-.78 2.05 0 2.83L4 21.41c.39.39.9.59 1.41.59.51 0 1.02-.2 1.41-.59l7.78-7.78 2.81-2.81c.8-.78.8-2.07 0-2.86zM5.41 20L4 18.59l7.72-7.72 1.47 1.35L5.41 20z\"/>\n",
              "  </svg>\n",
              "      </button>\n",
              "      \n",
              "  <style>\n",
              "    .colab-df-container {\n",
              "      display:flex;\n",
              "      flex-wrap:wrap;\n",
              "      gap: 12px;\n",
              "    }\n",
              "\n",
              "    .colab-df-convert {\n",
              "      background-color: #E8F0FE;\n",
              "      border: none;\n",
              "      border-radius: 50%;\n",
              "      cursor: pointer;\n",
              "      display: none;\n",
              "      fill: #1967D2;\n",
              "      height: 32px;\n",
              "      padding: 0 0 0 0;\n",
              "      width: 32px;\n",
              "    }\n",
              "\n",
              "    .colab-df-convert:hover {\n",
              "      background-color: #E2EBFA;\n",
              "      box-shadow: 0px 1px 2px rgba(60, 64, 67, 0.3), 0px 1px 3px 1px rgba(60, 64, 67, 0.15);\n",
              "      fill: #174EA6;\n",
              "    }\n",
              "\n",
              "    [theme=dark] .colab-df-convert {\n",
              "      background-color: #3B4455;\n",
              "      fill: #D2E3FC;\n",
              "    }\n",
              "\n",
              "    [theme=dark] .colab-df-convert:hover {\n",
              "      background-color: #434B5C;\n",
              "      box-shadow: 0px 1px 3px 1px rgba(0, 0, 0, 0.15);\n",
              "      filter: drop-shadow(0px 1px 2px rgba(0, 0, 0, 0.3));\n",
              "      fill: #FFFFFF;\n",
              "    }\n",
              "  </style>\n",
              "\n",
              "      <script>\n",
              "        const buttonEl =\n",
              "          document.querySelector('#df-f8259bde-b002-435e-b539-9b5183896dd5 button.colab-df-convert');\n",
              "        buttonEl.style.display =\n",
              "          google.colab.kernel.accessAllowed ? 'block' : 'none';\n",
              "\n",
              "        async function convertToInteractive(key) {\n",
              "          const element = document.querySelector('#df-f8259bde-b002-435e-b539-9b5183896dd5');\n",
              "          const dataTable =\n",
              "            await google.colab.kernel.invokeFunction('convertToInteractive',\n",
              "                                                     [key], {});\n",
              "          if (!dataTable) return;\n",
              "\n",
              "          const docLinkHtml = 'Like what you see? Visit the ' +\n",
              "            '<a target=\"_blank\" href=https://colab.research.google.com/notebooks/data_table.ipynb>data table notebook</a>'\n",
              "            + ' to learn more about interactive tables.';\n",
              "          element.innerHTML = '';\n",
              "          dataTable['output_type'] = 'display_data';\n",
              "          await google.colab.output.renderOutput(dataTable, element);\n",
              "          const docLink = document.createElement('div');\n",
              "          docLink.innerHTML = docLinkHtml;\n",
              "          element.appendChild(docLink);\n",
              "        }\n",
              "      </script>\n",
              "    </div>\n",
              "  </div>\n",
              "  "
            ]
          },
          "metadata": {},
          "execution_count": 1
        }
      ],
      "source": [
        "import pandas as pd\n",
        "df = pd.read_csv('customer_segmentation.csv')\n",
        "df.dropna(inplace=True)\n",
        "df.head()"
      ]
    },
    {
      "cell_type": "markdown",
      "source": [
        "# Preprocesamiento"
      ],
      "metadata": {
        "id": "faAd3MGCNikm"
      }
    },
    {
      "cell_type": "code",
      "source": [
        "from sklearn.preprocessing import OrdinalEncoder\n",
        "columns = ['Gender', 'Ever_Married', 'Graduated', 'Profession', 'Spending_Score', 'Var_1']\n",
        "enc = OrdinalEncoder()\n",
        "df_enc = enc.fit_transform(df[columns])\n",
        "for (index, column) in enumerate(columns):\n",
        "  df[column] = df_enc[:, index]\n",
        "\n",
        "df.head()"
      ],
      "metadata": {
        "colab": {
          "base_uri": "https://localhost:8080/",
          "height": 206
        },
        "id": "3_9xEp99Nh70",
        "outputId": "c7c6eca8-6d73-4ab7-f842-74151c893b97"
      },
      "execution_count": 2,
      "outputs": [
        {
          "output_type": "execute_result",
          "data": {
            "text/plain": [
              "       ID  Gender  Ever_Married  Age  Graduated  Profession  Work_Experience  \\\n",
              "0  458989     0.0           1.0   36        1.0         2.0              0.0   \n",
              "1  458994     1.0           1.0   37        1.0         5.0              8.0   \n",
              "3  459000     1.0           1.0   59        0.0         4.0             11.0   \n",
              "5  459003     1.0           1.0   47        1.0         1.0              0.0   \n",
              "6  459005     1.0           1.0   61        1.0         1.0              5.0   \n",
              "\n",
              "   Spending_Score  Family_Size  Var_1 Segmentation  \n",
              "0             2.0          1.0    5.0            B  \n",
              "1             0.0          4.0    5.0            A  \n",
              "3             1.0          2.0    5.0            B  \n",
              "5             1.0          5.0    3.0            C  \n",
              "6             2.0          3.0    5.0            D  "
            ],
            "text/html": [
              "\n",
              "  <div id=\"df-23b58bd9-f265-427a-983b-af656559dd7b\">\n",
              "    <div class=\"colab-df-container\">\n",
              "      <div>\n",
              "<style scoped>\n",
              "    .dataframe tbody tr th:only-of-type {\n",
              "        vertical-align: middle;\n",
              "    }\n",
              "\n",
              "    .dataframe tbody tr th {\n",
              "        vertical-align: top;\n",
              "    }\n",
              "\n",
              "    .dataframe thead th {\n",
              "        text-align: right;\n",
              "    }\n",
              "</style>\n",
              "<table border=\"1\" class=\"dataframe\">\n",
              "  <thead>\n",
              "    <tr style=\"text-align: right;\">\n",
              "      <th></th>\n",
              "      <th>ID</th>\n",
              "      <th>Gender</th>\n",
              "      <th>Ever_Married</th>\n",
              "      <th>Age</th>\n",
              "      <th>Graduated</th>\n",
              "      <th>Profession</th>\n",
              "      <th>Work_Experience</th>\n",
              "      <th>Spending_Score</th>\n",
              "      <th>Family_Size</th>\n",
              "      <th>Var_1</th>\n",
              "      <th>Segmentation</th>\n",
              "    </tr>\n",
              "  </thead>\n",
              "  <tbody>\n",
              "    <tr>\n",
              "      <th>0</th>\n",
              "      <td>458989</td>\n",
              "      <td>0.0</td>\n",
              "      <td>1.0</td>\n",
              "      <td>36</td>\n",
              "      <td>1.0</td>\n",
              "      <td>2.0</td>\n",
              "      <td>0.0</td>\n",
              "      <td>2.0</td>\n",
              "      <td>1.0</td>\n",
              "      <td>5.0</td>\n",
              "      <td>B</td>\n",
              "    </tr>\n",
              "    <tr>\n",
              "      <th>1</th>\n",
              "      <td>458994</td>\n",
              "      <td>1.0</td>\n",
              "      <td>1.0</td>\n",
              "      <td>37</td>\n",
              "      <td>1.0</td>\n",
              "      <td>5.0</td>\n",
              "      <td>8.0</td>\n",
              "      <td>0.0</td>\n",
              "      <td>4.0</td>\n",
              "      <td>5.0</td>\n",
              "      <td>A</td>\n",
              "    </tr>\n",
              "    <tr>\n",
              "      <th>3</th>\n",
              "      <td>459000</td>\n",
              "      <td>1.0</td>\n",
              "      <td>1.0</td>\n",
              "      <td>59</td>\n",
              "      <td>0.0</td>\n",
              "      <td>4.0</td>\n",
              "      <td>11.0</td>\n",
              "      <td>1.0</td>\n",
              "      <td>2.0</td>\n",
              "      <td>5.0</td>\n",
              "      <td>B</td>\n",
              "    </tr>\n",
              "    <tr>\n",
              "      <th>5</th>\n",
              "      <td>459003</td>\n",
              "      <td>1.0</td>\n",
              "      <td>1.0</td>\n",
              "      <td>47</td>\n",
              "      <td>1.0</td>\n",
              "      <td>1.0</td>\n",
              "      <td>0.0</td>\n",
              "      <td>1.0</td>\n",
              "      <td>5.0</td>\n",
              "      <td>3.0</td>\n",
              "      <td>C</td>\n",
              "    </tr>\n",
              "    <tr>\n",
              "      <th>6</th>\n",
              "      <td>459005</td>\n",
              "      <td>1.0</td>\n",
              "      <td>1.0</td>\n",
              "      <td>61</td>\n",
              "      <td>1.0</td>\n",
              "      <td>1.0</td>\n",
              "      <td>5.0</td>\n",
              "      <td>2.0</td>\n",
              "      <td>3.0</td>\n",
              "      <td>5.0</td>\n",
              "      <td>D</td>\n",
              "    </tr>\n",
              "  </tbody>\n",
              "</table>\n",
              "</div>\n",
              "      <button class=\"colab-df-convert\" onclick=\"convertToInteractive('df-23b58bd9-f265-427a-983b-af656559dd7b')\"\n",
              "              title=\"Convert this dataframe to an interactive table.\"\n",
              "              style=\"display:none;\">\n",
              "        \n",
              "  <svg xmlns=\"http://www.w3.org/2000/svg\" height=\"24px\"viewBox=\"0 0 24 24\"\n",
              "       width=\"24px\">\n",
              "    <path d=\"M0 0h24v24H0V0z\" fill=\"none\"/>\n",
              "    <path d=\"M18.56 5.44l.94 2.06.94-2.06 2.06-.94-2.06-.94-.94-2.06-.94 2.06-2.06.94zm-11 1L8.5 8.5l.94-2.06 2.06-.94-2.06-.94L8.5 2.5l-.94 2.06-2.06.94zm10 10l.94 2.06.94-2.06 2.06-.94-2.06-.94-.94-2.06-.94 2.06-2.06.94z\"/><path d=\"M17.41 7.96l-1.37-1.37c-.4-.4-.92-.59-1.43-.59-.52 0-1.04.2-1.43.59L10.3 9.45l-7.72 7.72c-.78.78-.78 2.05 0 2.83L4 21.41c.39.39.9.59 1.41.59.51 0 1.02-.2 1.41-.59l7.78-7.78 2.81-2.81c.8-.78.8-2.07 0-2.86zM5.41 20L4 18.59l7.72-7.72 1.47 1.35L5.41 20z\"/>\n",
              "  </svg>\n",
              "      </button>\n",
              "      \n",
              "  <style>\n",
              "    .colab-df-container {\n",
              "      display:flex;\n",
              "      flex-wrap:wrap;\n",
              "      gap: 12px;\n",
              "    }\n",
              "\n",
              "    .colab-df-convert {\n",
              "      background-color: #E8F0FE;\n",
              "      border: none;\n",
              "      border-radius: 50%;\n",
              "      cursor: pointer;\n",
              "      display: none;\n",
              "      fill: #1967D2;\n",
              "      height: 32px;\n",
              "      padding: 0 0 0 0;\n",
              "      width: 32px;\n",
              "    }\n",
              "\n",
              "    .colab-df-convert:hover {\n",
              "      background-color: #E2EBFA;\n",
              "      box-shadow: 0px 1px 2px rgba(60, 64, 67, 0.3), 0px 1px 3px 1px rgba(60, 64, 67, 0.15);\n",
              "      fill: #174EA6;\n",
              "    }\n",
              "\n",
              "    [theme=dark] .colab-df-convert {\n",
              "      background-color: #3B4455;\n",
              "      fill: #D2E3FC;\n",
              "    }\n",
              "\n",
              "    [theme=dark] .colab-df-convert:hover {\n",
              "      background-color: #434B5C;\n",
              "      box-shadow: 0px 1px 3px 1px rgba(0, 0, 0, 0.15);\n",
              "      filter: drop-shadow(0px 1px 2px rgba(0, 0, 0, 0.3));\n",
              "      fill: #FFFFFF;\n",
              "    }\n",
              "  </style>\n",
              "\n",
              "      <script>\n",
              "        const buttonEl =\n",
              "          document.querySelector('#df-23b58bd9-f265-427a-983b-af656559dd7b button.colab-df-convert');\n",
              "        buttonEl.style.display =\n",
              "          google.colab.kernel.accessAllowed ? 'block' : 'none';\n",
              "\n",
              "        async function convertToInteractive(key) {\n",
              "          const element = document.querySelector('#df-23b58bd9-f265-427a-983b-af656559dd7b');\n",
              "          const dataTable =\n",
              "            await google.colab.kernel.invokeFunction('convertToInteractive',\n",
              "                                                     [key], {});\n",
              "          if (!dataTable) return;\n",
              "\n",
              "          const docLinkHtml = 'Like what you see? Visit the ' +\n",
              "            '<a target=\"_blank\" href=https://colab.research.google.com/notebooks/data_table.ipynb>data table notebook</a>'\n",
              "            + ' to learn more about interactive tables.';\n",
              "          element.innerHTML = '';\n",
              "          dataTable['output_type'] = 'display_data';\n",
              "          await google.colab.output.renderOutput(dataTable, element);\n",
              "          const docLink = document.createElement('div');\n",
              "          docLink.innerHTML = docLinkHtml;\n",
              "          element.appendChild(docLink);\n",
              "        }\n",
              "      </script>\n",
              "    </div>\n",
              "  </div>\n",
              "  "
            ]
          },
          "metadata": {},
          "execution_count": 2
        }
      ]
    },
    {
      "cell_type": "code",
      "source": [
        "from sklearn.preprocessing import LabelEncoder\n",
        "\n",
        "le = LabelEncoder()\n",
        "y = le.fit_transform(df['Segmentation'])\n",
        "\n",
        "X_columns = [x for x in list(df.columns) if x not in ['ID', 'Segmentation']]\n",
        "X = df[X_columns]\n",
        "\n",
        "print(X.shape, y.shape)"
      ],
      "metadata": {
        "colab": {
          "base_uri": "https://localhost:8080/"
        },
        "id": "_bN5vRMJNf2c",
        "outputId": "549265dd-9a45-40ef-c817-5ed3f8e2fbc0"
      },
      "execution_count": 3,
      "outputs": [
        {
          "output_type": "stream",
          "name": "stdout",
          "text": [
            "(8819, 9) (8819,)\n"
          ]
        }
      ]
    },
    {
      "cell_type": "code",
      "source": [
        "from sklearn.preprocessing import StandardScaler\n",
        "scaler = StandardScaler()\n",
        "X = scaler.fit_transform(X)\n",
        "X"
      ],
      "metadata": {
        "colab": {
          "base_uri": "https://localhost:8080/"
        },
        "id": "wm7m36qHO0KV",
        "outputId": "5f5bd12a-1ea7-40a3-b34f-51d792908e0d"
      },
      "execution_count": 4,
      "outputs": [
        {
          "output_type": "execute_result",
          "data": {
            "text/plain": [
              "array([[-1.10821727,  0.83111925, -0.45341306, ...,  0.75632255,\n",
              "        -1.19880222,  0.58729472],\n",
              "       [ 0.90235013,  0.83111925, -0.3931016 , ..., -1.59351313,\n",
              "         0.75564136,  0.58729472],\n",
              "       [ 0.90235013,  0.83111925,  0.93375051, ..., -0.41859529,\n",
              "        -0.54732103,  0.58729472],\n",
              "       ...,\n",
              "       [-1.10821727, -1.20319678, -0.63434743, ...,  0.75632255,\n",
              "        -1.19880222,  0.58729472],\n",
              "       [-1.10821727, -1.20319678, -0.99621619, ...,  0.75632255,\n",
              "         0.75564136,  0.58729472],\n",
              "       [ 0.90235013,  0.83111925, -0.3931016 , ..., -1.59351313,\n",
              "         0.10416016, -0.83736547]])"
            ]
          },
          "metadata": {},
          "execution_count": 4
        }
      ]
    },
    {
      "cell_type": "markdown",
      "source": [
        "# Entrenar un algoritmo de machine learning"
      ],
      "metadata": {
        "id": "HD2rK3zpOuyS"
      }
    },
    {
      "cell_type": "code",
      "source": [
        "from sklearn.model_selection import train_test_split"
      ],
      "metadata": {
        "id": "r2y5mQPuOrAb"
      },
      "execution_count": 6,
      "outputs": []
    },
    {
      "cell_type": "code",
      "source": [
        "X_train, X_test, y_train, y_test = train_test_split(X, y, \n",
        "                                                   test_size=0.2, \n",
        "                                                   random_state=1)\n",
        "print(X_train.shape, X_test.shape, y_train.shape, y_test.shape)"
      ],
      "metadata": {
        "colab": {
          "base_uri": "https://localhost:8080/"
        },
        "id": "MW05pe30POzZ",
        "outputId": "0dd4f006-f173-4dac-c36d-3d45c5f50dbc"
      },
      "execution_count": 16,
      "outputs": [
        {
          "output_type": "stream",
          "name": "stdout",
          "text": [
            "(7055, 9) (1764, 9) (7055,) (1764,)\n"
          ]
        }
      ]
    },
    {
      "cell_type": "code",
      "source": [
        "from sklearn.ensemble import GradientBoostingClassifier\n",
        "from sklearn.metrics import accuracy_score"
      ],
      "metadata": {
        "id": "O1YHgHXJPdIH"
      },
      "execution_count": 17,
      "outputs": []
    },
    {
      "cell_type": "code",
      "source": [
        "cls = GradientBoostingClassifier(random_state=0)\n",
        "cls.fit(X_train, y_train)\n",
        "y_pred = cls.predict(X_test)\n",
        "print(accuracy_score(y_test, y_pred))"
      ],
      "metadata": {
        "colab": {
          "base_uri": "https://localhost:8080/"
        },
        "id": "mHU-ByamPy5M",
        "outputId": "99afad8d-2550-41fa-ad0f-2235457100bf"
      },
      "execution_count": 21,
      "outputs": [
        {
          "output_type": "stream",
          "name": "stdout",
          "text": [
            "0.49036281179138325\n"
          ]
        }
      ]
    },
    {
      "cell_type": "code",
      "source": [
        "from sklearn.model_selection import GridSearchCV"
      ],
      "metadata": {
        "id": "nS8eoWgEQjkh"
      },
      "execution_count": 20,
      "outputs": []
    },
    {
      "cell_type": "code",
      "source": [
        "cls = GradientBoostingClassifier(random_state=0)"
      ],
      "metadata": {
        "id": "2LL385ixRBA0"
      },
      "execution_count": 22,
      "outputs": []
    },
    {
      "cell_type": "code",
      "source": [
        "params = {\n",
        "    'learning_rate': [0.01, 0.1, 0.2],\n",
        "    'n_estimators': [75, 100, 125],\n",
        "    'max_depth': [1, 3, 5]\n",
        "}\n",
        "\n",
        "cv = GridSearchCV(cls, params, scoring='accuracy', verbose=3)"
      ],
      "metadata": {
        "id": "4wEXDYOrRRtF"
      },
      "execution_count": 23,
      "outputs": []
    },
    {
      "cell_type": "code",
      "source": [
        "cv.fit(X_train, y_train)"
      ],
      "metadata": {
        "colab": {
          "base_uri": "https://localhost:8080/",
          "height": 1000
        },
        "id": "tly3G9xhR5Ad",
        "outputId": "60e0ed8a-de72-4cfe-ba4e-d7e45fcd4b89"
      },
      "execution_count": 24,
      "outputs": [
        {
          "output_type": "stream",
          "name": "stdout",
          "text": [
            "Fitting 5 folds for each of 27 candidates, totalling 135 fits\n",
            "[CV 1/5] END learning_rate=0.01, max_depth=1, n_estimators=75;, score=0.442 total time=   1.0s\n",
            "[CV 2/5] END learning_rate=0.01, max_depth=1, n_estimators=75;, score=0.444 total time=   0.8s\n",
            "[CV 3/5] END learning_rate=0.01, max_depth=1, n_estimators=75;, score=0.430 total time=   0.8s\n",
            "[CV 4/5] END learning_rate=0.01, max_depth=1, n_estimators=75;, score=0.436 total time=   0.8s\n",
            "[CV 5/5] END learning_rate=0.01, max_depth=1, n_estimators=75;, score=0.432 total time=   1.0s\n",
            "[CV 1/5] END learning_rate=0.01, max_depth=1, n_estimators=100;, score=0.449 total time=   1.2s\n",
            "[CV 2/5] END learning_rate=0.01, max_depth=1, n_estimators=100;, score=0.427 total time=   1.5s\n",
            "[CV 3/5] END learning_rate=0.01, max_depth=1, n_estimators=100;, score=0.425 total time=   1.3s\n",
            "[CV 4/5] END learning_rate=0.01, max_depth=1, n_estimators=100;, score=0.437 total time=   1.1s\n",
            "[CV 5/5] END learning_rate=0.01, max_depth=1, n_estimators=100;, score=0.441 total time=   1.1s\n",
            "[CV 1/5] END learning_rate=0.01, max_depth=1, n_estimators=125;, score=0.454 total time=   1.3s\n",
            "[CV 2/5] END learning_rate=0.01, max_depth=1, n_estimators=125;, score=0.440 total time=   1.3s\n",
            "[CV 3/5] END learning_rate=0.01, max_depth=1, n_estimators=125;, score=0.440 total time=   1.4s\n",
            "[CV 4/5] END learning_rate=0.01, max_depth=1, n_estimators=125;, score=0.439 total time=   1.4s\n",
            "[CV 5/5] END learning_rate=0.01, max_depth=1, n_estimators=125;, score=0.454 total time=   1.4s\n",
            "[CV 1/5] END learning_rate=0.01, max_depth=3, n_estimators=75;, score=0.459 total time=   1.7s\n",
            "[CV 2/5] END learning_rate=0.01, max_depth=3, n_estimators=75;, score=0.465 total time=   1.6s\n",
            "[CV 3/5] END learning_rate=0.01, max_depth=3, n_estimators=75;, score=0.483 total time=   1.3s\n",
            "[CV 4/5] END learning_rate=0.01, max_depth=3, n_estimators=75;, score=0.456 total time=   1.4s\n",
            "[CV 5/5] END learning_rate=0.01, max_depth=3, n_estimators=75;, score=0.468 total time=   1.3s\n",
            "[CV 1/5] END learning_rate=0.01, max_depth=3, n_estimators=100;, score=0.474 total time=   1.8s\n",
            "[CV 2/5] END learning_rate=0.01, max_depth=3, n_estimators=100;, score=0.471 total time=   1.9s\n",
            "[CV 3/5] END learning_rate=0.01, max_depth=3, n_estimators=100;, score=0.476 total time=   1.8s\n",
            "[CV 4/5] END learning_rate=0.01, max_depth=3, n_estimators=100;, score=0.455 total time=   2.5s\n",
            "[CV 5/5] END learning_rate=0.01, max_depth=3, n_estimators=100;, score=0.471 total time=   1.8s\n",
            "[CV 1/5] END learning_rate=0.01, max_depth=3, n_estimators=125;, score=0.481 total time=   2.2s\n",
            "[CV 2/5] END learning_rate=0.01, max_depth=3, n_estimators=125;, score=0.473 total time=   2.2s\n",
            "[CV 3/5] END learning_rate=0.01, max_depth=3, n_estimators=125;, score=0.481 total time=   2.3s\n",
            "[CV 4/5] END learning_rate=0.01, max_depth=3, n_estimators=125;, score=0.468 total time=   2.5s\n",
            "[CV 5/5] END learning_rate=0.01, max_depth=3, n_estimators=125;, score=0.476 total time=   2.6s\n",
            "[CV 1/5] END learning_rate=0.01, max_depth=5, n_estimators=75;, score=0.464 total time=   1.9s\n",
            "[CV 2/5] END learning_rate=0.01, max_depth=5, n_estimators=75;, score=0.481 total time=   2.1s\n",
            "[CV 3/5] END learning_rate=0.01, max_depth=5, n_estimators=75;, score=0.498 total time=   1.9s\n",
            "[CV 4/5] END learning_rate=0.01, max_depth=5, n_estimators=75;, score=0.475 total time=   1.9s\n",
            "[CV 5/5] END learning_rate=0.01, max_depth=5, n_estimators=75;, score=0.484 total time=   2.3s\n",
            "[CV 1/5] END learning_rate=0.01, max_depth=5, n_estimators=100;, score=0.466 total time=   3.0s\n",
            "[CV 2/5] END learning_rate=0.01, max_depth=5, n_estimators=100;, score=0.478 total time=   2.6s\n",
            "[CV 3/5] END learning_rate=0.01, max_depth=5, n_estimators=100;, score=0.495 total time=   3.0s\n",
            "[CV 4/5] END learning_rate=0.01, max_depth=5, n_estimators=100;, score=0.476 total time=   3.1s\n",
            "[CV 5/5] END learning_rate=0.01, max_depth=5, n_estimators=100;, score=0.483 total time=   3.1s\n",
            "[CV 1/5] END learning_rate=0.01, max_depth=5, n_estimators=125;, score=0.468 total time=   3.4s\n",
            "[CV 2/5] END learning_rate=0.01, max_depth=5, n_estimators=125;, score=0.483 total time=   3.9s\n",
            "[CV 3/5] END learning_rate=0.01, max_depth=5, n_estimators=125;, score=0.493 total time=   4.0s\n",
            "[CV 4/5] END learning_rate=0.01, max_depth=5, n_estimators=125;, score=0.478 total time=   3.3s\n",
            "[CV 5/5] END learning_rate=0.01, max_depth=5, n_estimators=125;, score=0.482 total time=   3.3s\n",
            "[CV 1/5] END learning_rate=0.1, max_depth=1, n_estimators=75;, score=0.472 total time=   0.8s\n",
            "[CV 2/5] END learning_rate=0.1, max_depth=1, n_estimators=75;, score=0.487 total time=   0.8s\n",
            "[CV 3/5] END learning_rate=0.1, max_depth=1, n_estimators=75;, score=0.483 total time=   0.9s\n",
            "[CV 4/5] END learning_rate=0.1, max_depth=1, n_estimators=75;, score=0.468 total time=   0.9s\n",
            "[CV 5/5] END learning_rate=0.1, max_depth=1, n_estimators=75;, score=0.484 total time=   1.1s\n",
            "[CV 1/5] END learning_rate=0.1, max_depth=1, n_estimators=100;, score=0.474 total time=   1.4s\n",
            "[CV 2/5] END learning_rate=0.1, max_depth=1, n_estimators=100;, score=0.483 total time=   1.1s\n",
            "[CV 3/5] END learning_rate=0.1, max_depth=1, n_estimators=100;, score=0.481 total time=   1.1s\n",
            "[CV 4/5] END learning_rate=0.1, max_depth=1, n_estimators=100;, score=0.466 total time=   1.1s\n",
            "[CV 5/5] END learning_rate=0.1, max_depth=1, n_estimators=100;, score=0.482 total time=   1.1s\n",
            "[CV 1/5] END learning_rate=0.1, max_depth=1, n_estimators=125;, score=0.472 total time=   1.4s\n",
            "[CV 2/5] END learning_rate=0.1, max_depth=1, n_estimators=125;, score=0.478 total time=   1.4s\n",
            "[CV 3/5] END learning_rate=0.1, max_depth=1, n_estimators=125;, score=0.483 total time=   1.4s\n",
            "[CV 4/5] END learning_rate=0.1, max_depth=1, n_estimators=125;, score=0.469 total time=   1.5s\n",
            "[CV 5/5] END learning_rate=0.1, max_depth=1, n_estimators=125;, score=0.485 total time=   1.9s\n",
            "[CV 1/5] END learning_rate=0.1, max_depth=3, n_estimators=75;, score=0.477 total time=   1.4s\n",
            "[CV 2/5] END learning_rate=0.1, max_depth=3, n_estimators=75;, score=0.485 total time=   1.4s\n",
            "[CV 3/5] END learning_rate=0.1, max_depth=3, n_estimators=75;, score=0.503 total time=   1.3s\n",
            "[CV 4/5] END learning_rate=0.1, max_depth=3, n_estimators=75;, score=0.476 total time=   1.3s\n",
            "[CV 5/5] END learning_rate=0.1, max_depth=3, n_estimators=75;, score=0.494 total time=   1.3s\n",
            "[CV 1/5] END learning_rate=0.1, max_depth=3, n_estimators=100;, score=0.471 total time=   1.8s\n",
            "[CV 2/5] END learning_rate=0.1, max_depth=3, n_estimators=100;, score=0.481 total time=   1.9s\n",
            "[CV 3/5] END learning_rate=0.1, max_depth=3, n_estimators=100;, score=0.491 total time=   2.4s\n",
            "[CV 4/5] END learning_rate=0.1, max_depth=3, n_estimators=100;, score=0.474 total time=   1.9s\n",
            "[CV 5/5] END learning_rate=0.1, max_depth=3, n_estimators=100;, score=0.489 total time=   1.8s\n",
            "[CV 1/5] END learning_rate=0.1, max_depth=3, n_estimators=125;, score=0.464 total time=   2.2s\n",
            "[CV 2/5] END learning_rate=0.1, max_depth=3, n_estimators=125;, score=0.476 total time=   2.2s\n",
            "[CV 3/5] END learning_rate=0.1, max_depth=3, n_estimators=125;, score=0.493 total time=   2.6s\n",
            "[CV 4/5] END learning_rate=0.1, max_depth=3, n_estimators=125;, score=0.469 total time=   3.4s\n",
            "[CV 5/5] END learning_rate=0.1, max_depth=3, n_estimators=125;, score=0.492 total time=   2.2s\n",
            "[CV 1/5] END learning_rate=0.1, max_depth=5, n_estimators=75;, score=0.455 total time=   1.9s\n",
            "[CV 2/5] END learning_rate=0.1, max_depth=5, n_estimators=75;, score=0.485 total time=   2.0s\n",
            "[CV 3/5] END learning_rate=0.1, max_depth=5, n_estimators=75;, score=0.479 total time=   2.0s\n",
            "[CV 4/5] END learning_rate=0.1, max_depth=5, n_estimators=75;, score=0.468 total time=   2.7s\n",
            "[CV 5/5] END learning_rate=0.1, max_depth=5, n_estimators=75;, score=0.465 total time=   2.0s\n",
            "[CV 1/5] END learning_rate=0.1, max_depth=5, n_estimators=100;, score=0.451 total time=   2.6s\n",
            "[CV 2/5] END learning_rate=0.1, max_depth=5, n_estimators=100;, score=0.491 total time=   2.7s\n",
            "[CV 3/5] END learning_rate=0.1, max_depth=5, n_estimators=100;, score=0.474 total time=   2.6s\n",
            "[CV 4/5] END learning_rate=0.1, max_depth=5, n_estimators=100;, score=0.473 total time=   3.3s\n",
            "[CV 5/5] END learning_rate=0.1, max_depth=5, n_estimators=100;, score=0.462 total time=   2.6s\n",
            "[CV 1/5] END learning_rate=0.1, max_depth=5, n_estimators=125;, score=0.446 total time=   3.3s\n",
            "[CV 2/5] END learning_rate=0.1, max_depth=5, n_estimators=125;, score=0.488 total time=   3.4s\n",
            "[CV 3/5] END learning_rate=0.1, max_depth=5, n_estimators=125;, score=0.466 total time=   4.0s\n",
            "[CV 4/5] END learning_rate=0.1, max_depth=5, n_estimators=125;, score=0.469 total time=   4.0s\n",
            "[CV 5/5] END learning_rate=0.1, max_depth=5, n_estimators=125;, score=0.454 total time=   3.3s\n",
            "[CV 1/5] END learning_rate=0.2, max_depth=1, n_estimators=75;, score=0.478 total time=   0.8s\n",
            "[CV 2/5] END learning_rate=0.2, max_depth=1, n_estimators=75;, score=0.478 total time=   1.1s\n",
            "[CV 3/5] END learning_rate=0.2, max_depth=1, n_estimators=75;, score=0.481 total time=   1.2s\n",
            "[CV 4/5] END learning_rate=0.2, max_depth=1, n_estimators=75;, score=0.470 total time=   1.0s\n",
            "[CV 5/5] END learning_rate=0.2, max_depth=1, n_estimators=75;, score=0.488 total time=   0.9s\n",
            "[CV 1/5] END learning_rate=0.2, max_depth=1, n_estimators=100;, score=0.481 total time=   1.1s\n",
            "[CV 2/5] END learning_rate=0.2, max_depth=1, n_estimators=100;, score=0.478 total time=   1.1s\n",
            "[CV 3/5] END learning_rate=0.2, max_depth=1, n_estimators=100;, score=0.477 total time=   1.1s\n",
            "[CV 4/5] END learning_rate=0.2, max_depth=1, n_estimators=100;, score=0.471 total time=   1.1s\n",
            "[CV 5/5] END learning_rate=0.2, max_depth=1, n_estimators=100;, score=0.485 total time=   1.1s\n",
            "[CV 1/5] END learning_rate=0.2, max_depth=1, n_estimators=125;, score=0.479 total time=   1.4s\n",
            "[CV 2/5] END learning_rate=0.2, max_depth=1, n_estimators=125;, score=0.476 total time=   1.4s\n",
            "[CV 3/5] END learning_rate=0.2, max_depth=1, n_estimators=125;, score=0.478 total time=   1.9s\n",
            "[CV 4/5] END learning_rate=0.2, max_depth=1, n_estimators=125;, score=0.470 total time=   1.6s\n",
            "[CV 5/5] END learning_rate=0.2, max_depth=1, n_estimators=125;, score=0.481 total time=   1.4s\n",
            "[CV 1/5] END learning_rate=0.2, max_depth=3, n_estimators=75;, score=0.472 total time=   1.4s\n",
            "[CV 2/5] END learning_rate=0.2, max_depth=3, n_estimators=75;, score=0.481 total time=   1.4s\n",
            "[CV 3/5] END learning_rate=0.2, max_depth=3, n_estimators=75;, score=0.490 total time=   1.4s\n",
            "[CV 4/5] END learning_rate=0.2, max_depth=3, n_estimators=75;, score=0.469 total time=   1.4s\n",
            "[CV 5/5] END learning_rate=0.2, max_depth=3, n_estimators=75;, score=0.483 total time=   1.4s\n",
            "[CV 1/5] END learning_rate=0.2, max_depth=3, n_estimators=100;, score=0.459 total time=   2.2s\n",
            "[CV 2/5] END learning_rate=0.2, max_depth=3, n_estimators=100;, score=0.484 total time=   2.1s\n",
            "[CV 3/5] END learning_rate=0.2, max_depth=3, n_estimators=100;, score=0.488 total time=   1.8s\n",
            "[CV 4/5] END learning_rate=0.2, max_depth=3, n_estimators=100;, score=0.463 total time=   1.8s\n",
            "[CV 5/5] END learning_rate=0.2, max_depth=3, n_estimators=100;, score=0.478 total time=   1.9s\n",
            "[CV 1/5] END learning_rate=0.2, max_depth=3, n_estimators=125;, score=0.454 total time=   2.3s\n",
            "[CV 2/5] END learning_rate=0.2, max_depth=3, n_estimators=125;, score=0.477 total time=   2.7s\n",
            "[CV 3/5] END learning_rate=0.2, max_depth=3, n_estimators=125;, score=0.486 total time=   2.5s\n",
            "[CV 4/5] END learning_rate=0.2, max_depth=3, n_estimators=125;, score=0.466 total time=   2.3s\n",
            "[CV 5/5] END learning_rate=0.2, max_depth=3, n_estimators=125;, score=0.479 total time=   2.3s\n",
            "[CV 1/5] END learning_rate=0.2, max_depth=5, n_estimators=75;, score=0.438 total time=   2.0s\n",
            "[CV 2/5] END learning_rate=0.2, max_depth=5, n_estimators=75;, score=0.466 total time=   2.1s\n",
            "[CV 3/5] END learning_rate=0.2, max_depth=5, n_estimators=75;, score=0.471 total time=   2.6s\n",
            "[CV 4/5] END learning_rate=0.2, max_depth=5, n_estimators=75;, score=0.457 total time=   2.0s\n",
            "[CV 5/5] END learning_rate=0.2, max_depth=5, n_estimators=75;, score=0.462 total time=   1.9s\n",
            "[CV 1/5] END learning_rate=0.2, max_depth=5, n_estimators=100;, score=0.427 total time=   2.6s\n",
            "[CV 2/5] END learning_rate=0.2, max_depth=5, n_estimators=100;, score=0.464 total time=   2.7s\n",
            "[CV 3/5] END learning_rate=0.2, max_depth=5, n_estimators=100;, score=0.462 total time=   3.5s\n",
            "[CV 4/5] END learning_rate=0.2, max_depth=5, n_estimators=100;, score=0.448 total time=   2.6s\n",
            "[CV 5/5] END learning_rate=0.2, max_depth=5, n_estimators=100;, score=0.450 total time=   2.7s\n",
            "[CV 1/5] END learning_rate=0.2, max_depth=5, n_estimators=125;, score=0.422 total time=   3.3s\n",
            "[CV 2/5] END learning_rate=0.2, max_depth=5, n_estimators=125;, score=0.454 total time=   4.1s\n",
            "[CV 3/5] END learning_rate=0.2, max_depth=5, n_estimators=125;, score=0.453 total time=   3.3s\n",
            "[CV 4/5] END learning_rate=0.2, max_depth=5, n_estimators=125;, score=0.446 total time=   4.1s\n",
            "[CV 5/5] END learning_rate=0.2, max_depth=5, n_estimators=125;, score=0.437 total time=   4.0s\n"
          ]
        },
        {
          "output_type": "execute_result",
          "data": {
            "text/plain": [
              "GridSearchCV(estimator=GradientBoostingClassifier(random_state=0),\n",
              "             param_grid={'learning_rate': [0.01, 0.1, 0.2],\n",
              "                         'max_depth': [1, 3, 5],\n",
              "                         'n_estimators': [75, 100, 125]},\n",
              "             scoring='accuracy', verbose=3)"
            ],
            "text/html": [
              "<style>#sk-container-id-1 {color: black;background-color: white;}#sk-container-id-1 pre{padding: 0;}#sk-container-id-1 div.sk-toggleable {background-color: white;}#sk-container-id-1 label.sk-toggleable__label {cursor: pointer;display: block;width: 100%;margin-bottom: 0;padding: 0.3em;box-sizing: border-box;text-align: center;}#sk-container-id-1 label.sk-toggleable__label-arrow:before {content: \"▸\";float: left;margin-right: 0.25em;color: #696969;}#sk-container-id-1 label.sk-toggleable__label-arrow:hover:before {color: black;}#sk-container-id-1 div.sk-estimator:hover label.sk-toggleable__label-arrow:before {color: black;}#sk-container-id-1 div.sk-toggleable__content {max-height: 0;max-width: 0;overflow: hidden;text-align: left;background-color: #f0f8ff;}#sk-container-id-1 div.sk-toggleable__content pre {margin: 0.2em;color: black;border-radius: 0.25em;background-color: #f0f8ff;}#sk-container-id-1 input.sk-toggleable__control:checked~div.sk-toggleable__content {max-height: 200px;max-width: 100%;overflow: auto;}#sk-container-id-1 input.sk-toggleable__control:checked~label.sk-toggleable__label-arrow:before {content: \"▾\";}#sk-container-id-1 div.sk-estimator input.sk-toggleable__control:checked~label.sk-toggleable__label {background-color: #d4ebff;}#sk-container-id-1 div.sk-label input.sk-toggleable__control:checked~label.sk-toggleable__label {background-color: #d4ebff;}#sk-container-id-1 input.sk-hidden--visually {border: 0;clip: rect(1px 1px 1px 1px);clip: rect(1px, 1px, 1px, 1px);height: 1px;margin: -1px;overflow: hidden;padding: 0;position: absolute;width: 1px;}#sk-container-id-1 div.sk-estimator {font-family: monospace;background-color: #f0f8ff;border: 1px dotted black;border-radius: 0.25em;box-sizing: border-box;margin-bottom: 0.5em;}#sk-container-id-1 div.sk-estimator:hover {background-color: #d4ebff;}#sk-container-id-1 div.sk-parallel-item::after {content: \"\";width: 100%;border-bottom: 1px solid gray;flex-grow: 1;}#sk-container-id-1 div.sk-label:hover label.sk-toggleable__label {background-color: #d4ebff;}#sk-container-id-1 div.sk-serial::before {content: \"\";position: absolute;border-left: 1px solid gray;box-sizing: border-box;top: 0;bottom: 0;left: 50%;z-index: 0;}#sk-container-id-1 div.sk-serial {display: flex;flex-direction: column;align-items: center;background-color: white;padding-right: 0.2em;padding-left: 0.2em;position: relative;}#sk-container-id-1 div.sk-item {position: relative;z-index: 1;}#sk-container-id-1 div.sk-parallel {display: flex;align-items: stretch;justify-content: center;background-color: white;position: relative;}#sk-container-id-1 div.sk-item::before, #sk-container-id-1 div.sk-parallel-item::before {content: \"\";position: absolute;border-left: 1px solid gray;box-sizing: border-box;top: 0;bottom: 0;left: 50%;z-index: -1;}#sk-container-id-1 div.sk-parallel-item {display: flex;flex-direction: column;z-index: 1;position: relative;background-color: white;}#sk-container-id-1 div.sk-parallel-item:first-child::after {align-self: flex-end;width: 50%;}#sk-container-id-1 div.sk-parallel-item:last-child::after {align-self: flex-start;width: 50%;}#sk-container-id-1 div.sk-parallel-item:only-child::after {width: 0;}#sk-container-id-1 div.sk-dashed-wrapped {border: 1px dashed gray;margin: 0 0.4em 0.5em 0.4em;box-sizing: border-box;padding-bottom: 0.4em;background-color: white;}#sk-container-id-1 div.sk-label label {font-family: monospace;font-weight: bold;display: inline-block;line-height: 1.2em;}#sk-container-id-1 div.sk-label-container {text-align: center;}#sk-container-id-1 div.sk-container {/* jupyter's `normalize.less` sets `[hidden] { display: none; }` but bootstrap.min.css set `[hidden] { display: none !important; }` so we also need the `!important` here to be able to override the default hidden behavior on the sphinx rendered scikit-learn.org. See: https://github.com/scikit-learn/scikit-learn/issues/21755 */display: inline-block !important;position: relative;}#sk-container-id-1 div.sk-text-repr-fallback {display: none;}</style><div id=\"sk-container-id-1\" class=\"sk-top-container\"><div class=\"sk-text-repr-fallback\"><pre>GridSearchCV(estimator=GradientBoostingClassifier(random_state=0),\n",
              "             param_grid={&#x27;learning_rate&#x27;: [0.01, 0.1, 0.2],\n",
              "                         &#x27;max_depth&#x27;: [1, 3, 5],\n",
              "                         &#x27;n_estimators&#x27;: [75, 100, 125]},\n",
              "             scoring=&#x27;accuracy&#x27;, verbose=3)</pre><b>In a Jupyter environment, please rerun this cell to show the HTML representation or trust the notebook. <br />On GitHub, the HTML representation is unable to render, please try loading this page with nbviewer.org.</b></div><div class=\"sk-container\" hidden><div class=\"sk-item sk-dashed-wrapped\"><div class=\"sk-label-container\"><div class=\"sk-label sk-toggleable\"><input class=\"sk-toggleable__control sk-hidden--visually\" id=\"sk-estimator-id-1\" type=\"checkbox\" ><label for=\"sk-estimator-id-1\" class=\"sk-toggleable__label sk-toggleable__label-arrow\">GridSearchCV</label><div class=\"sk-toggleable__content\"><pre>GridSearchCV(estimator=GradientBoostingClassifier(random_state=0),\n",
              "             param_grid={&#x27;learning_rate&#x27;: [0.01, 0.1, 0.2],\n",
              "                         &#x27;max_depth&#x27;: [1, 3, 5],\n",
              "                         &#x27;n_estimators&#x27;: [75, 100, 125]},\n",
              "             scoring=&#x27;accuracy&#x27;, verbose=3)</pre></div></div></div><div class=\"sk-parallel\"><div class=\"sk-parallel-item\"><div class=\"sk-item\"><div class=\"sk-label-container\"><div class=\"sk-label sk-toggleable\"><input class=\"sk-toggleable__control sk-hidden--visually\" id=\"sk-estimator-id-2\" type=\"checkbox\" ><label for=\"sk-estimator-id-2\" class=\"sk-toggleable__label sk-toggleable__label-arrow\">estimator: GradientBoostingClassifier</label><div class=\"sk-toggleable__content\"><pre>GradientBoostingClassifier(random_state=0)</pre></div></div></div><div class=\"sk-serial\"><div class=\"sk-item\"><div class=\"sk-estimator sk-toggleable\"><input class=\"sk-toggleable__control sk-hidden--visually\" id=\"sk-estimator-id-3\" type=\"checkbox\" ><label for=\"sk-estimator-id-3\" class=\"sk-toggleable__label sk-toggleable__label-arrow\">GradientBoostingClassifier</label><div class=\"sk-toggleable__content\"><pre>GradientBoostingClassifier(random_state=0)</pre></div></div></div></div></div></div></div></div></div></div>"
            ]
          },
          "metadata": {},
          "execution_count": 24
        }
      ]
    },
    {
      "cell_type": "code",
      "source": [
        "cv.best_score_"
      ],
      "metadata": {
        "colab": {
          "base_uri": "https://localhost:8080/"
        },
        "id": "GkKKHceYR9kc",
        "outputId": "6b8f050e-ef51-42cc-8a4f-67e7c054627b"
      },
      "execution_count": 25,
      "outputs": [
        {
          "output_type": "execute_result",
          "data": {
            "text/plain": [
              "0.48688873139617295"
            ]
          },
          "metadata": {},
          "execution_count": 25
        }
      ]
    },
    {
      "cell_type": "code",
      "source": [
        "cv.best_params_"
      ],
      "metadata": {
        "colab": {
          "base_uri": "https://localhost:8080/"
        },
        "id": "vRBkJGIZTFqZ",
        "outputId": "bedc3305-8910-4024-c84f-e84a43ae764c"
      },
      "execution_count": 27,
      "outputs": [
        {
          "output_type": "execute_result",
          "data": {
            "text/plain": [
              "{'learning_rate': 0.1, 'max_depth': 3, 'n_estimators': 75}"
            ]
          },
          "metadata": {},
          "execution_count": 27
        }
      ]
    },
    {
      "cell_type": "code",
      "source": [
        "y_pred = cv.predict(X_test)\n",
        "print(accuracy_score(y_test, y_pred))"
      ],
      "metadata": {
        "colab": {
          "base_uri": "https://localhost:8080/"
        },
        "id": "mkgNJXkFTIp7",
        "outputId": "0205094c-e5c4-4051-a674-5f3cf584d8f4"
      },
      "execution_count": 28,
      "outputs": [
        {
          "output_type": "stream",
          "name": "stdout",
          "text": [
            "0.4937641723356009\n"
          ]
        }
      ]
    },
    {
      "cell_type": "code",
      "source": [
        "from sklearn.metrics import ConfusionMatrixDisplay\n",
        "import matplotlib.pyplot as plt"
      ],
      "metadata": {
        "id": "jL4x8GfUTW9U"
      },
      "execution_count": 29,
      "outputs": []
    },
    {
      "cell_type": "code",
      "source": [
        "ConfusionMatrixDisplay.from_estimator(cv, X_test, y_test, cmap=plt.cm.Blues, normalize=None)"
      ],
      "metadata": {
        "colab": {
          "base_uri": "https://localhost:8080/",
          "height": 471
        },
        "id": "cnKGb8R2T1Yb",
        "outputId": "e5cdfa2f-55b6-4233-c745-9b4e29180096"
      },
      "execution_count": 30,
      "outputs": [
        {
          "output_type": "execute_result",
          "data": {
            "text/plain": [
              "<sklearn.metrics._plot.confusion_matrix.ConfusionMatrixDisplay at 0x7f7e3c4669b0>"
            ]
          },
          "metadata": {},
          "execution_count": 30
        },
        {
          "output_type": "display_data",
          "data": {
            "text/plain": [
              "<Figure size 640x480 with 2 Axes>"
            ],
            "image/png": "[encoded data removed]"
          },
          "metadata": {}
        }
      ]
    },
    {
      "cell_type": "code",
      "source": [
        "ConfusionMatrixDisplay.from_estimator(cv, X_test, y_test, cmap=plt.cm.Blues, normalize='pred')"
      ],
      "metadata": {
        "colab": {
          "base_uri": "https://localhost:8080/",
          "height": 466
        },
        "id": "UHu5ivANT931",
        "outputId": "fb76dbdd-079d-4a7e-a199-e95bea802372"
      },
      "execution_count": 31,
      "outputs": [
        {
          "output_type": "execute_result",
          "data": {
            "text/plain": [
              "<sklearn.metrics._plot.confusion_matrix.ConfusionMatrixDisplay at 0x7f7e3c467d90>"
            ]
          },
          "metadata": {},
          "execution_count": 31
        },
        {
          "output_type": "display_data",
          "data": {
            "text/plain": [
              "<Figure size 640x480 with 2 Axes>"
            ],
            "image/png": "[encoded data removed]"
          },
          "metadata": {}
        }
      ]
    },
    {
      "cell_type": "code",
      "source": [
        "ConfusionMatrixDisplay.from_estimator(cv, X_test, y_test, cmap=plt.cm.Blues, normalize='true')"
      ],
      "metadata": {
        "colab": {
          "base_uri": "https://localhost:8080/",
          "height": 466
        },
        "id": "WItqZhV_UGhb",
        "outputId": "085671b5-aef9-49f6-f17f-8705f4c21b8e"
      },
      "execution_count": 32,
      "outputs": [
        {
          "output_type": "execute_result",
          "data": {
            "text/plain": [
              "<sklearn.metrics._plot.confusion_matrix.ConfusionMatrixDisplay at 0x7f7e3c465e40>"
            ]
          },
          "metadata": {},
          "execution_count": 32
        },
        {
          "output_type": "display_data",
          "data": {
            "text/plain": [
              "<Figure size 640x480 with 2 Axes>"
            ],
            "image/png": "[encoded data removed]"
          },
          "metadata": {}
        }
      ]
    },
    {
      "cell_type": "code",
      "source": [],
      "metadata": {
        "id": "AZ45saMRUKnp"
      },
      "execution_count": null,
      "outputs": []
    }
  ]
}